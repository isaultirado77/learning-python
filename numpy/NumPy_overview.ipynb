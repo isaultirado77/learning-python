{
 "cells": [
  {
   "cell_type": "code",
   "execution_count": 1,
   "id": "4d2974a8",
   "metadata": {},
   "outputs": [],
   "source": [
    "import numpy as np"
   ]
  },
  {
   "cell_type": "markdown",
   "id": "380fdea1",
   "metadata": {},
   "source": [
    "### Array creation"
   ]
  },
  {
   "cell_type": "code",
   "execution_count": 2,
   "id": "0b452fd5",
   "metadata": {},
   "outputs": [],
   "source": [
    "a = np.array([1, 2, 3])"
   ]
  },
  {
   "cell_type": "code",
   "execution_count": 14,
   "id": "a45f2443",
   "metadata": {},
   "outputs": [
    {
     "name": "stdout",
     "output_type": "stream",
     "text": [
      "[1 2 3]\n",
      "(3,)\n",
      "[[1 2 3]]\n"
     ]
    }
   ],
   "source": [
    "print(a)\n",
    "print(a.shape)\n",
    "print(a.reshape(-1, 3))"
   ]
  },
  {
   "cell_type": "code",
   "execution_count": 15,
   "id": "25b24431",
   "metadata": {},
   "outputs": [],
   "source": [
    "b = np.array([(1, 2), (3, 4)])"
   ]
  },
  {
   "cell_type": "code",
   "execution_count": 22,
   "id": "35a7bc7e",
   "metadata": {},
   "outputs": [
    {
     "name": "stdout",
     "output_type": "stream",
     "text": [
      "[[1 2]\n",
      " [3 4]]\n",
      "(2, 2)\n",
      "[[1 2 3 4]]\n",
      "[[1]\n",
      " [2]\n",
      " [3]\n",
      " [4]]\n"
     ]
    }
   ],
   "source": [
    "print(b)\n",
    "print(b.shape)\n",
    "print(b.reshape(-1, 4))  # as row vector\n",
    "print(b.reshape(4, -1))  # as col vector\n"
   ]
  },
  {
   "cell_type": "markdown",
   "id": "79afd8e5",
   "metadata": {},
   "source": [
    "### Array filled with specific values"
   ]
  },
  {
   "cell_type": "code",
   "execution_count": 24,
   "id": "8f9b9d15",
   "metadata": {},
   "outputs": [
    {
     "data": {
      "text/plain": [
       "array([[0., 0., 0.],\n",
       "       [0., 0., 0.]])"
      ]
     },
     "execution_count": 24,
     "metadata": {},
     "output_type": "execute_result"
    }
   ],
   "source": [
    "np.zeros((2, 3))"
   ]
  },
  {
   "cell_type": "code",
   "execution_count": 28,
   "id": "1301836a",
   "metadata": {},
   "outputs": [
    {
     "data": {
      "text/plain": [
       "array([[1, 1, 1],\n",
       "       [1, 1, 1],\n",
       "       [1, 1, 1]], dtype=int8)"
      ]
     },
     "execution_count": 28,
     "metadata": {},
     "output_type": "execute_result"
    }
   ],
   "source": [
    "np.ones((3, 3)).astype(np.int8)"
   ]
  },
  {
   "cell_type": "code",
   "execution_count": 31,
   "id": "6f662a9a",
   "metadata": {},
   "outputs": [
    {
     "data": {
      "text/plain": [
       "array([[10., 10.],\n",
       "       [10., 10.]], dtype=float16)"
      ]
     },
     "execution_count": 31,
     "metadata": {},
     "output_type": "execute_result"
    }
   ],
   "source": [
    "np.full(shape=(2, 2), fill_value=10, dtype=np.float16)"
   ]
  },
  {
   "cell_type": "markdown",
   "id": "082ff77d",
   "metadata": {},
   "source": [
    "### Arrays with sequential values"
   ]
  },
  {
   "cell_type": "code",
   "execution_count": 34,
   "id": "94977f08",
   "metadata": {},
   "outputs": [
    {
     "data": {
      "text/plain": [
       "array([0, 1, 2, 3, 4, 5, 6, 7, 8, 9])"
      ]
     },
     "execution_count": 34,
     "metadata": {},
     "output_type": "execute_result"
    }
   ],
   "source": [
    "np.arange(0, 10, 1)"
   ]
  },
  {
   "cell_type": "code",
   "execution_count": 36,
   "id": "74b2f3bd",
   "metadata": {},
   "outputs": [
    {
     "data": {
      "text/plain": [
       "array([ 0.        ,  0.34482759,  0.68965517,  1.03448276,  1.37931034,\n",
       "        1.72413793,  2.06896552,  2.4137931 ,  2.75862069,  3.10344828,\n",
       "        3.44827586,  3.79310345,  4.13793103,  4.48275862,  4.82758621,\n",
       "        5.17241379,  5.51724138,  5.86206897,  6.20689655,  6.55172414,\n",
       "        6.89655172,  7.24137931,  7.5862069 ,  7.93103448,  8.27586207,\n",
       "        8.62068966,  8.96551724,  9.31034483,  9.65517241, 10.        ])"
      ]
     },
     "execution_count": 36,
     "metadata": {},
     "output_type": "execute_result"
    }
   ],
   "source": [
    "np.linspace(0, 10,  30)"
   ]
  },
  {
   "cell_type": "markdown",
   "id": "733b0a38",
   "metadata": {},
   "source": [
    "### Random arrays"
   ]
  },
  {
   "cell_type": "code",
   "execution_count": 39,
   "id": "f0092612",
   "metadata": {},
   "outputs": [],
   "source": [
    "# Random generator\n",
    "rng = np.random.default_rng(42)"
   ]
  },
  {
   "cell_type": "code",
   "execution_count": 37,
   "id": "c8623409",
   "metadata": {},
   "outputs": [
    {
     "data": {
      "text/plain": [
       "array([[0.24285535, 0.88278998, 0.60920159],\n",
       "       [0.68792011, 0.04603593, 0.71664644]])"
      ]
     },
     "execution_count": 37,
     "metadata": {},
     "output_type": "execute_result"
    }
   ],
   "source": [
    "np.random.rand(2, 3)"
   ]
  },
  {
   "cell_type": "code",
   "execution_count": 47,
   "id": "18ab9ed5",
   "metadata": {},
   "outputs": [
    {
     "data": {
      "text/plain": [
       "array([[-0.82448122,  0.65059279,  0.74325417],\n",
       "       [ 0.54315427, -0.66550971,  0.23216132]])"
      ]
     },
     "execution_count": 47,
     "metadata": {},
     "output_type": "execute_result"
    }
   ],
   "source": [
    "rng.normal(size=(2, 3))"
   ]
  },
  {
   "cell_type": "code",
   "execution_count": 59,
   "id": "90056ed7",
   "metadata": {},
   "outputs": [
    {
     "data": {
      "text/plain": [
       "array([[2, 3, 8],\n",
       "       [0, 0, 6],\n",
       "       [0, 2, 3]], dtype=int32)"
      ]
     },
     "execution_count": 59,
     "metadata": {},
     "output_type": "execute_result"
    }
   ],
   "source": [
    "np.random.randint(0, 10, (3, 3))"
   ]
  },
  {
   "cell_type": "code",
   "execution_count": 60,
   "id": "f573e8be",
   "metadata": {},
   "outputs": [
    {
     "data": {
      "text/plain": [
       "array([[4, 9, 2],\n",
       "       [2, 4, 9],\n",
       "       [8, 0, 2]])"
      ]
     },
     "execution_count": 60,
     "metadata": {},
     "output_type": "execute_result"
    }
   ],
   "source": [
    "rng.integers(0, 10, (3, 3))"
   ]
  },
  {
   "cell_type": "markdown",
   "id": "62f799f6",
   "metadata": {},
   "source": [
    "### Array properties"
   ]
  },
  {
   "cell_type": "code",
   "execution_count": 62,
   "id": "dafe8e39",
   "metadata": {},
   "outputs": [
    {
     "name": "stdout",
     "output_type": "stream",
     "text": [
      "(2, 2)\n",
      "2\n",
      "4\n",
      "int64\n"
     ]
    }
   ],
   "source": [
    "arr = np.array([[1, 2], [3, 4]])\n",
    "print(arr.shape)     \n",
    "print(arr.ndim)      \n",
    "print(arr.size)    \n",
    "print(arr.dtype)     \n"
   ]
  },
  {
   "cell_type": "markdown",
   "id": "b459b3c7",
   "metadata": {},
   "source": [
    "### Ejercicio práctico \n",
    "\n",
    "**Objetivo**: Poner en práctica la creación de arrays y manipulación básica.\n",
    "\n",
    "**Instrucciones**:\n",
    "* Crea una matriz 3x4 con valores del 0 al 11.\n",
    "\n",
    "* Cambia su forma a 4x3.\n",
    "\n",
    "* Obtén una versión 1D de la matriz con flatten.\n",
    "\n",
    "* Crea un array 3x3 de números aleatorios enteros entre 10 y 99.\n",
    "\n",
    "* Extrae la propiedad shape, size, ndim y dtype de cada array.\n",
    "\n",
    "* Usa np.linspace para crear un array de 8 valores equidistantes entre 0 y 1."
   ]
  },
  {
   "cell_type": "code",
   "execution_count": 64,
   "id": "a237fc3a",
   "metadata": {},
   "outputs": [
    {
     "data": {
      "text/plain": [
       "array([[0, 1, 2],\n",
       "       [3, 4, 5],\n",
       "       [6, 7, 8]])"
      ]
     },
     "execution_count": 64,
     "metadata": {},
     "output_type": "execute_result"
    }
   ],
   "source": [
    "mat = np.array(\n",
    "    [(0, 1, 2), (3, 4, 5), (6, 7, 8)]\n",
    ")\n",
    "mat"
   ]
  },
  {
   "cell_type": "code",
   "execution_count": 72,
   "id": "d78c0805",
   "metadata": {},
   "outputs": [
    {
     "data": {
      "text/plain": [
       "array([[7, 5, 7],\n",
       "       [2, 5, 4],\n",
       "       [2, 9, 6]], dtype=int32)"
      ]
     },
     "execution_count": 72,
     "metadata": {},
     "output_type": "execute_result"
    }
   ],
   "source": [
    "mat = np.random.randint(0, 11, size=(3, 3))\n",
    "mat"
   ]
  },
  {
   "cell_type": "code",
   "execution_count": 86,
   "id": "f3b0c720",
   "metadata": {},
   "outputs": [
    {
     "name": "stdout",
     "output_type": "stream",
     "text": [
      "[[ 0  1  2  3]\n",
      " [ 4  5  6  7]\n",
      " [ 8  9 10 11]]\n",
      "(3, 4)\n"
     ]
    }
   ],
   "source": [
    "# Crea una matriz 3x4 con valores del 0 al 11.\n",
    "\n",
    "mat = np.arange(0, 12, 1).reshape(3, 4)\n",
    "print(mat)\n",
    "print(mat.shape)"
   ]
  },
  {
   "cell_type": "code",
   "execution_count": 89,
   "id": "ce49795a",
   "metadata": {},
   "outputs": [
    {
     "name": "stdout",
     "output_type": "stream",
     "text": [
      "[[ 0  1  2]\n",
      " [ 3  4  5]\n",
      " [ 6  7  8]\n",
      " [ 9 10 11]]\n",
      "(4, 3)\n"
     ]
    }
   ],
   "source": [
    "# Cambia su forma a 4x3.\n",
    "\n",
    "rmat = mat.reshape(4, -1)\n",
    "print(rmat)\n",
    "print(rmat.shape)"
   ]
  },
  {
   "cell_type": "code",
   "execution_count": 93,
   "id": "b50cbf91",
   "metadata": {},
   "outputs": [
    {
     "data": {
      "text/plain": [
       "array([ 0,  1,  2,  3,  4,  5,  6,  7,  8,  9, 10, 11])"
      ]
     },
     "execution_count": 93,
     "metadata": {},
     "output_type": "execute_result"
    }
   ],
   "source": [
    "# Obtén una versión 1D de la matriz con flatten.\n",
    "mat_flatten = mat.flatten()\n",
    "mat_flatten"
   ]
  },
  {
   "cell_type": "code",
   "execution_count": 94,
   "id": "e31bb3f4",
   "metadata": {},
   "outputs": [
    {
     "data": {
      "text/plain": [
       "array([[ 0,  1,  2,  3,  4,  5,  6,  7,  8,  9, 10, 11]])"
      ]
     },
     "execution_count": 94,
     "metadata": {},
     "output_type": "execute_result"
    }
   ],
   "source": [
    "fmat = mat.reshape(1, -1)\n",
    "fmat"
   ]
  },
  {
   "cell_type": "code",
   "execution_count": 105,
   "id": "15c018dd",
   "metadata": {},
   "outputs": [
    {
     "data": {
      "text/plain": [
       "array([[0, 0, 0, 0, 0, 0, 0, 0, 0, 0, 0, 0]])"
      ]
     },
     "execution_count": 105,
     "metadata": {},
     "output_type": "execute_result"
    }
   ],
   "source": [
    "mat_flatten - fmat"
   ]
  },
  {
   "cell_type": "code",
   "execution_count": 107,
   "id": "4be85391",
   "metadata": {},
   "outputs": [
    {
     "data": {
      "text/plain": [
       "array([[96, 81, 31],\n",
       "       [45, 68, 62],\n",
       "       [23, 35, 51]], dtype=int32)"
      ]
     },
     "execution_count": 107,
     "metadata": {},
     "output_type": "execute_result"
    }
   ],
   "source": [
    "# Crea un array 3x3 de números aleatorios enteros entre 10 y 99.\n",
    "\n",
    "rdm = np.random.randint(10, 99, size=(3, 3))\n",
    "rdm"
   ]
  },
  {
   "cell_type": "code",
   "execution_count": 109,
   "id": "6a5f225c",
   "metadata": {},
   "outputs": [],
   "source": [
    "# Extrae la propiedad shape, size, ndim y dtype de cada array.\n",
    "\n",
    "def info(arr: np.ndarray):\n",
    "    return {\n",
    "        'shape': arr.shape, \n",
    "        'size': arr.size,\n",
    "        'ndim': arr.ndim,\n",
    "        'dtype': arr.dtype\n",
    "    }"
   ]
  },
  {
   "cell_type": "code",
   "execution_count": 110,
   "id": "d7850c56",
   "metadata": {},
   "outputs": [
    {
     "name": "stdout",
     "output_type": "stream",
     "text": [
      "{'shape': (3, 3), 'size': 9, 'ndim': 2, 'dtype': dtype('int32')}\n"
     ]
    }
   ],
   "source": [
    "print(info(rdm))"
   ]
  },
  {
   "cell_type": "code",
   "execution_count": 111,
   "id": "e501cb8b",
   "metadata": {},
   "outputs": [
    {
     "data": {
      "text/plain": [
       "array([0.        , 0.14285714, 0.28571429, 0.42857143, 0.57142857,\n",
       "       0.71428571, 0.85714286, 1.        ])"
      ]
     },
     "execution_count": 111,
     "metadata": {},
     "output_type": "execute_result"
    }
   ],
   "source": [
    "# Usa np.linspace para crear un array de 8 valores equidistantes entre 0 y 1.\n",
    "\n",
    "eqarr = np.linspace(0, 1, 8)\n",
    "eqarr"
   ]
  },
  {
   "cell_type": "markdown",
   "id": "1999227c",
   "metadata": {},
   "source": [
    "**Ejercicio 1**: Tablero de ajedrez (con ceros y unos)\n",
    "\n",
    "Objetivo: Usar slicing para crear una matriz 8x8 tipo ajedrez, donde los valores alternen entre 0 y 1 como un tablero real."
   ]
  },
  {
   "cell_type": "code",
   "execution_count": 142,
   "id": "01ac14d9",
   "metadata": {},
   "outputs": [
    {
     "data": {
      "text/plain": [
       "array([[1, 0, 1, 0, 1, 0, 1, 0],\n",
       "       [0, 1, 0, 1, 0, 1, 0, 1],\n",
       "       [1, 0, 1, 0, 1, 0, 1, 0],\n",
       "       [0, 1, 0, 1, 0, 1, 0, 1],\n",
       "       [1, 0, 1, 0, 1, 0, 1, 0],\n",
       "       [0, 1, 0, 1, 0, 1, 0, 1],\n",
       "       [1, 0, 1, 0, 1, 0, 1, 0],\n",
       "       [0, 1, 0, 1, 0, 1, 0, 1]])"
      ]
     },
     "execution_count": 142,
     "metadata": {},
     "output_type": "execute_result"
    }
   ],
   "source": [
    "board = np.zeros((8, 8), dtype=int)\n",
    "board[::2, ::2] = 1\n",
    "board[1::2, 1::2] = 1\n",
    "board"
   ]
  },
  {
   "cell_type": "markdown",
   "id": "a19aa0a8",
   "metadata": {},
   "source": [
    "**Ejercicio 2:** Normalización de una matriz\n",
    "\n",
    "Objetivo: Normalizar una matriz 5x5 de valores aleatorios enteros entre 0 y 100.\n",
    "\n"
   ]
  },
  {
   "cell_type": "code",
   "execution_count": 146,
   "id": "aacb8d53",
   "metadata": {},
   "outputs": [
    {
     "data": {
      "text/plain": [
       "array([[35, 84, 53, 91, 85],\n",
       "       [ 7, 28,  1,  5,  5],\n",
       "       [98, 62, 47,  2, 17],\n",
       "       [70, 71, 32, 45, 90],\n",
       "       [37, 66, 29, 43, 43]], dtype=int32)"
      ]
     },
     "execution_count": 146,
     "metadata": {},
     "output_type": "execute_result"
    }
   ],
   "source": [
    "mat = np.random.randint(0, 100, size=(5, 5))\n",
    "mat"
   ]
  },
  {
   "cell_type": "code",
   "execution_count": 149,
   "id": "c1d58e9e",
   "metadata": {},
   "outputs": [],
   "source": [
    "def normalize(x: np.ndarray): \n",
    "    return (x - x.min()) / (x.max() - x.min())"
   ]
  },
  {
   "cell_type": "code",
   "execution_count": 150,
   "id": "d3bf4035",
   "metadata": {},
   "outputs": [
    {
     "name": "stdout",
     "output_type": "stream",
     "text": [
      "[[0.35051546 0.8556701  0.53608247 0.92783505 0.86597938]\n",
      " [0.06185567 0.27835052 0.         0.04123711 0.04123711]\n",
      " [1.         0.62886598 0.4742268  0.01030928 0.16494845]\n",
      " [0.71134021 0.72164948 0.31958763 0.45360825 0.91752577]\n",
      " [0.37113402 0.67010309 0.28865979 0.43298969 0.43298969]]\n"
     ]
    }
   ],
   "source": [
    "print(normalize(mat))"
   ]
  },
  {
   "cell_type": "markdown",
   "id": "74a4e43d",
   "metadata": {},
   "source": [
    "**Ejercicio 3:** Diagonal dominante\n",
    "\n",
    "Objetivo: Crear una matriz cuadrada de tamaño 5x5 donde la diagonal principal tenga el valor 100, y el resto valores aleatorios entre 0 y 10."
   ]
  },
  {
   "cell_type": "code",
   "execution_count": 157,
   "id": "fa5fa101",
   "metadata": {},
   "outputs": [
    {
     "data": {
      "text/plain": [
       "array([[100.        ,   2.60768015,   9.71943018,   5.89353042,\n",
       "          6.88918761],\n",
       "       [  7.80685548, 100.        ,   8.76144736,   7.62910926,\n",
       "          9.56827664],\n",
       "       [  2.73939895,   9.92925194, 100.        ,   1.58921179,\n",
       "          4.07029081],\n",
       "       [  9.53568932,   8.30870024,   3.316382  , 100.        ,\n",
       "          6.69382906],\n",
       "       [  7.00808862,   2.81548628,   9.23805043,   1.49667163,\n",
       "        100.        ]])"
      ]
     },
     "execution_count": 157,
     "metadata": {},
     "output_type": "execute_result"
    }
   ],
   "source": [
    "mat = np.random.uniform(0, 10, size=(5, 5))\n",
    "np.fill_diagonal(mat, 100)\n",
    "mat"
   ]
  },
  {
   "cell_type": "markdown",
   "id": "dce5ae53",
   "metadata": {},
   "source": [
    "**Ejercicio 4:** Encontrar la fila con mayor suma\n",
    "\n",
    "Objetivo: Dada una matriz 6x4 de números enteros aleatorios entre 1 y 100, identificar:\n",
    "\n",
    "* El índice de la fila con mayor suma\n",
    "\n",
    "* El contenido de dicha fila"
   ]
  },
  {
   "cell_type": "code",
   "execution_count": 221,
   "id": "904b8000",
   "metadata": {},
   "outputs": [
    {
     "data": {
      "text/plain": [
       "array([[29, 28, 87, 68],\n",
       "       [61, 31, 33,  7],\n",
       "       [15, 30, 92, 43],\n",
       "       [84, 72, 37, 45],\n",
       "       [92, 35, 27, 29],\n",
       "       [36, 73, 76, 43]], dtype=int32)"
      ]
     },
     "execution_count": 221,
     "metadata": {},
     "output_type": "execute_result"
    }
   ],
   "source": [
    "mat = np.random.randint(1, 100, size=(6, 4))\n",
    "mat"
   ]
  },
  {
   "cell_type": "code",
   "execution_count": 226,
   "id": "e278c7bc",
   "metadata": {},
   "outputs": [
    {
     "name": "stdout",
     "output_type": "stream",
     "text": [
      "[212 132 180 238 183 228]\n",
      "[317 269 352 235]\n"
     ]
    }
   ],
   "source": [
    "print(mat.sum(axis=1)) # Sum over the rows\n",
    "print(mat.sum(axis=0)) # Sum the cols"
   ]
  },
  {
   "cell_type": "code",
   "execution_count": 223,
   "id": "2c83da8f",
   "metadata": {},
   "outputs": [],
   "source": [
    "def max_sum(x: np.ndarray): \n",
    "    row_sum = x.sum(axis=1)\n",
    "    max_index = np.argmax(row_sum)\n",
    "    return {\n",
    "        'index': max_index, \n",
    "        'row': x[max_index]\n",
    "    }"
   ]
  },
  {
   "cell_type": "code",
   "execution_count": 227,
   "id": "eb4b0cd7",
   "metadata": {},
   "outputs": [
    {
     "name": "stdout",
     "output_type": "stream",
     "text": [
      "{'index': np.int64(3), 'row': array([84, 72, 37, 45], dtype=int32)}\n"
     ]
    }
   ],
   "source": [
    "print(max_sum(mat))"
   ]
  },
  {
   "cell_type": "markdown",
   "id": "c6562e04",
   "metadata": {},
   "source": [
    "**Ejercicio 5**: Contar elementos bajo una condición\n",
    "\n",
    "Objetivo: Dada una matriz aleatoria 10x10 de valores entre 0 y 1, contar:\n",
    "\n",
    "* Cuántos elementos son mayores a 0.5\n",
    "\n",
    "* Cuántos están entre 0.25 y 0.75 (inclusive)"
   ]
  },
  {
   "cell_type": "code",
   "execution_count": 183,
   "id": "dee04d7a",
   "metadata": {},
   "outputs": [
    {
     "data": {
      "text/plain": [
       "array([[0.08291273, 0.49820072, 0.68795749, 0.67877018, 0.49481859,\n",
       "        0.21159774, 0.81283984, 0.19845363, 0.51264318, 0.60305853],\n",
       "       [0.88995969, 0.93418162, 0.97428524, 0.16076067, 0.31812001,\n",
       "        0.08161529, 0.67348334, 0.25773355, 0.01108229, 0.01212894],\n",
       "       [0.98769276, 0.00691209, 0.80717259, 0.05918972, 0.97305761,\n",
       "        0.16966328, 0.30556658, 0.84608208, 0.40613868, 0.08818913],\n",
       "       [0.01639399, 0.39116717, 0.18375882, 0.84623617, 0.25353922,\n",
       "        0.42466802, 0.36671558, 0.09404139, 0.54331455, 0.43154056],\n",
       "       [0.68532528, 0.99409598, 0.68559213, 0.67112807, 0.41250674,\n",
       "        0.49123728, 0.92859354, 0.79654039, 0.4714751 , 0.4248445 ],\n",
       "       [0.86405472, 0.16788487, 0.26890072, 0.18117641, 0.82096899,\n",
       "        0.19224574, 0.28140014, 0.9947003 , 0.52243194, 0.99492048],\n",
       "       [0.35795773, 0.99554861, 0.85058268, 0.91889393, 0.73404538,\n",
       "        0.47080634, 0.8979671 , 0.56158692, 0.86502468, 0.5960923 ],\n",
       "       [0.89839718, 0.66362407, 0.57769571, 0.96859914, 0.91647606,\n",
       "        0.94022082, 0.12888137, 0.64591136, 0.60287516, 0.97649002],\n",
       "       [0.90478239, 0.68460089, 0.4691829 , 0.4851195 , 0.95520353,\n",
       "        0.0966111 , 0.68474273, 0.0355291 , 0.47133075, 0.69417509],\n",
       "       [0.78019982, 0.50647517, 0.16343889, 0.03866786, 0.48786472,\n",
       "        0.44132614, 0.91120081, 0.32376832, 0.07124739, 0.28434276]])"
      ]
     },
     "execution_count": 183,
     "metadata": {},
     "output_type": "execute_result"
    }
   ],
   "source": [
    "mat = np.random.random(size=(10, 10))\n",
    "mat"
   ]
  },
  {
   "cell_type": "code",
   "execution_count": 184,
   "id": "3c5b85cf",
   "metadata": {},
   "outputs": [
    {
     "data": {
      "text/plain": [
       "51"
      ]
     },
     "execution_count": 184,
     "metadata": {},
     "output_type": "execute_result"
    }
   ],
   "source": [
    "# Cuántos elementos son mayores a 0.5\n",
    "len(mat[mat > 0.5])"
   ]
  },
  {
   "cell_type": "code",
   "execution_count": 192,
   "id": "53ec8c7c",
   "metadata": {},
   "outputs": [
    {
     "data": {
      "text/plain": [
       "np.int64(51)"
      ]
     },
     "execution_count": 192,
     "metadata": {},
     "output_type": "execute_result"
    }
   ],
   "source": [
    "# The numpy way: \n",
    "np.sum(mat > 0.5)  # It counts the True values"
   ]
  },
  {
   "cell_type": "code",
   "execution_count": 187,
   "id": "5a2c9b45",
   "metadata": {},
   "outputs": [
    {
     "data": {
      "text/plain": [
       "47"
      ]
     },
     "execution_count": 187,
     "metadata": {},
     "output_type": "execute_result"
    }
   ],
   "source": [
    "# Cuántos están entre 0.25 y 0.75 (inclusive)\n",
    "len(mat[(mat > 0.25) & (mat <= 0.75)])"
   ]
  },
  {
   "cell_type": "code",
   "execution_count": 188,
   "id": "4a281317",
   "metadata": {},
   "outputs": [
    {
     "data": {
      "text/plain": [
       "np.int64(47)"
      ]
     },
     "execution_count": 188,
     "metadata": {},
     "output_type": "execute_result"
    }
   ],
   "source": [
    "np.sum((mat > 0.25) & (mat <= 0.75))"
   ]
  },
  {
   "cell_type": "markdown",
   "id": "f158e781",
   "metadata": {},
   "source": [
    "**Ejercicio 6**: Modificar una matriz sin loops\n",
    "\n",
    "Objetivo: Crear una matriz 4x4 con valores del 0 al 15 y reemplazar todos los múltiplos de 3 con -1.\n"
   ]
  },
  {
   "cell_type": "code",
   "execution_count": 177,
   "id": "14755e34",
   "metadata": {},
   "outputs": [
    {
     "data": {
      "text/plain": [
       "array([[ 0,  1,  2,  3],\n",
       "       [ 4,  5,  6,  7],\n",
       "       [ 8,  9, 10, 11],\n",
       "       [12, 13, 14, 15]])"
      ]
     },
     "execution_count": 177,
     "metadata": {},
     "output_type": "execute_result"
    }
   ],
   "source": [
    "mat = np.arange(0, 16).reshape(4, 4)\n",
    "mat"
   ]
  },
  {
   "cell_type": "code",
   "execution_count": 178,
   "id": "74604df8",
   "metadata": {},
   "outputs": [
    {
     "data": {
      "text/plain": [
       "array([[-1,  1,  2, -1],\n",
       "       [ 4,  5, -1,  7],\n",
       "       [ 8, -1, 10, 11],\n",
       "       [-1, 13, 14, -1]])"
      ]
     },
     "execution_count": 178,
     "metadata": {},
     "output_type": "execute_result"
    }
   ],
   "source": [
    "mat[mat % 3 == 0] = -1\n",
    "mat  "
   ]
  },
  {
   "cell_type": "code",
   "execution_count": null,
   "id": "ec584e35",
   "metadata": {},
   "outputs": [],
   "source": []
  }
 ],
 "metadata": {
  "kernelspec": {
   "display_name": "mlvirt",
   "language": "python",
   "name": "mlvirt"
  },
  "language_info": {
   "codemirror_mode": {
    "name": "ipython",
    "version": 3
   },
   "file_extension": ".py",
   "mimetype": "text/x-python",
   "name": "python",
   "nbconvert_exporter": "python",
   "pygments_lexer": "ipython3",
   "version": "3.12.4"
  }
 },
 "nbformat": 4,
 "nbformat_minor": 5
}
