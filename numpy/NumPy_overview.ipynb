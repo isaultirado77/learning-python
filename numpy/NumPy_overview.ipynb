{
 "cells": [
  {
   "cell_type": "code",
   "execution_count": 1,
   "id": "4d2974a8",
   "metadata": {},
   "outputs": [],
   "source": [
    "import numpy as np"
   ]
  },
  {
   "cell_type": "markdown",
   "id": "aa1028ff",
   "metadata": {},
   "source": [
    "# Intro to NumPy"
   ]
  },
  {
   "cell_type": "markdown",
   "id": "380fdea1",
   "metadata": {},
   "source": [
    "### Array creation"
   ]
  },
  {
   "cell_type": "code",
   "execution_count": 2,
   "id": "0b452fd5",
   "metadata": {},
   "outputs": [],
   "source": [
    "a = np.array([1, 2, 3])"
   ]
  },
  {
   "cell_type": "code",
   "execution_count": 14,
   "id": "a45f2443",
   "metadata": {},
   "outputs": [
    {
     "name": "stdout",
     "output_type": "stream",
     "text": [
      "[1 2 3]\n",
      "(3,)\n",
      "[[1 2 3]]\n"
     ]
    }
   ],
   "source": [
    "print(a)\n",
    "print(a.shape)\n",
    "print(a.reshape(-1, 3))"
   ]
  },
  {
   "cell_type": "code",
   "execution_count": 15,
   "id": "25b24431",
   "metadata": {},
   "outputs": [],
   "source": [
    "b = np.array([(1, 2), (3, 4)])"
   ]
  },
  {
   "cell_type": "code",
   "execution_count": 22,
   "id": "35a7bc7e",
   "metadata": {},
   "outputs": [
    {
     "name": "stdout",
     "output_type": "stream",
     "text": [
      "[[1 2]\n",
      " [3 4]]\n",
      "(2, 2)\n",
      "[[1 2 3 4]]\n",
      "[[1]\n",
      " [2]\n",
      " [3]\n",
      " [4]]\n"
     ]
    }
   ],
   "source": [
    "print(b)\n",
    "print(b.shape)\n",
    "print(b.reshape(-1, 4))  # as row vector\n",
    "print(b.reshape(4, -1))  # as col vector\n"
   ]
  },
  {
   "cell_type": "markdown",
   "id": "79afd8e5",
   "metadata": {},
   "source": [
    "### Array filled with specific values"
   ]
  },
  {
   "cell_type": "code",
   "execution_count": 24,
   "id": "8f9b9d15",
   "metadata": {},
   "outputs": [
    {
     "data": {
      "text/plain": [
       "array([[0., 0., 0.],\n",
       "       [0., 0., 0.]])"
      ]
     },
     "execution_count": 24,
     "metadata": {},
     "output_type": "execute_result"
    }
   ],
   "source": [
    "np.zeros((2, 3))"
   ]
  },
  {
   "cell_type": "code",
   "execution_count": 28,
   "id": "1301836a",
   "metadata": {},
   "outputs": [
    {
     "data": {
      "text/plain": [
       "array([[1, 1, 1],\n",
       "       [1, 1, 1],\n",
       "       [1, 1, 1]], dtype=int8)"
      ]
     },
     "execution_count": 28,
     "metadata": {},
     "output_type": "execute_result"
    }
   ],
   "source": [
    "np.ones((3, 3)).astype(np.int8)"
   ]
  },
  {
   "cell_type": "code",
   "execution_count": 31,
   "id": "6f662a9a",
   "metadata": {},
   "outputs": [
    {
     "data": {
      "text/plain": [
       "array([[10., 10.],\n",
       "       [10., 10.]], dtype=float16)"
      ]
     },
     "execution_count": 31,
     "metadata": {},
     "output_type": "execute_result"
    }
   ],
   "source": [
    "np.full(shape=(2, 2), fill_value=10, dtype=np.float16)"
   ]
  },
  {
   "cell_type": "markdown",
   "id": "082ff77d",
   "metadata": {},
   "source": [
    "### Arrays with sequential values"
   ]
  },
  {
   "cell_type": "code",
   "execution_count": 34,
   "id": "94977f08",
   "metadata": {},
   "outputs": [
    {
     "data": {
      "text/plain": [
       "array([0, 1, 2, 3, 4, 5, 6, 7, 8, 9])"
      ]
     },
     "execution_count": 34,
     "metadata": {},
     "output_type": "execute_result"
    }
   ],
   "source": [
    "np.arange(0, 10, 1)"
   ]
  },
  {
   "cell_type": "code",
   "execution_count": 36,
   "id": "74b2f3bd",
   "metadata": {},
   "outputs": [
    {
     "data": {
      "text/plain": [
       "array([ 0.        ,  0.34482759,  0.68965517,  1.03448276,  1.37931034,\n",
       "        1.72413793,  2.06896552,  2.4137931 ,  2.75862069,  3.10344828,\n",
       "        3.44827586,  3.79310345,  4.13793103,  4.48275862,  4.82758621,\n",
       "        5.17241379,  5.51724138,  5.86206897,  6.20689655,  6.55172414,\n",
       "        6.89655172,  7.24137931,  7.5862069 ,  7.93103448,  8.27586207,\n",
       "        8.62068966,  8.96551724,  9.31034483,  9.65517241, 10.        ])"
      ]
     },
     "execution_count": 36,
     "metadata": {},
     "output_type": "execute_result"
    }
   ],
   "source": [
    "np.linspace(0, 10,  30)"
   ]
  },
  {
   "cell_type": "markdown",
   "id": "733b0a38",
   "metadata": {},
   "source": [
    "### Random arrays"
   ]
  },
  {
   "cell_type": "code",
   "execution_count": 39,
   "id": "f0092612",
   "metadata": {},
   "outputs": [],
   "source": [
    "# Random generator\n",
    "rng = np.random.default_rng(42)"
   ]
  },
  {
   "cell_type": "code",
   "execution_count": 37,
   "id": "c8623409",
   "metadata": {},
   "outputs": [
    {
     "data": {
      "text/plain": [
       "array([[0.24285535, 0.88278998, 0.60920159],\n",
       "       [0.68792011, 0.04603593, 0.71664644]])"
      ]
     },
     "execution_count": 37,
     "metadata": {},
     "output_type": "execute_result"
    }
   ],
   "source": [
    "np.random.rand(2, 3)"
   ]
  },
  {
   "cell_type": "code",
   "execution_count": 47,
   "id": "18ab9ed5",
   "metadata": {},
   "outputs": [
    {
     "data": {
      "text/plain": [
       "array([[-0.82448122,  0.65059279,  0.74325417],\n",
       "       [ 0.54315427, -0.66550971,  0.23216132]])"
      ]
     },
     "execution_count": 47,
     "metadata": {},
     "output_type": "execute_result"
    }
   ],
   "source": [
    "rng.normal(size=(2, 3))"
   ]
  },
  {
   "cell_type": "code",
   "execution_count": 59,
   "id": "90056ed7",
   "metadata": {},
   "outputs": [
    {
     "data": {
      "text/plain": [
       "array([[2, 3, 8],\n",
       "       [0, 0, 6],\n",
       "       [0, 2, 3]], dtype=int32)"
      ]
     },
     "execution_count": 59,
     "metadata": {},
     "output_type": "execute_result"
    }
   ],
   "source": [
    "np.random.randint(0, 10, (3, 3))"
   ]
  },
  {
   "cell_type": "code",
   "execution_count": 60,
   "id": "f573e8be",
   "metadata": {},
   "outputs": [
    {
     "data": {
      "text/plain": [
       "array([[4, 9, 2],\n",
       "       [2, 4, 9],\n",
       "       [8, 0, 2]])"
      ]
     },
     "execution_count": 60,
     "metadata": {},
     "output_type": "execute_result"
    }
   ],
   "source": [
    "rng.integers(0, 10, (3, 3))"
   ]
  },
  {
   "cell_type": "markdown",
   "id": "62f799f6",
   "metadata": {},
   "source": [
    "### Array properties"
   ]
  },
  {
   "cell_type": "code",
   "execution_count": 62,
   "id": "dafe8e39",
   "metadata": {},
   "outputs": [
    {
     "name": "stdout",
     "output_type": "stream",
     "text": [
      "(2, 2)\n",
      "2\n",
      "4\n",
      "int64\n"
     ]
    }
   ],
   "source": [
    "arr = np.array([[1, 2], [3, 4]])\n",
    "print(arr.shape)     \n",
    "print(arr.ndim)      \n",
    "print(arr.size)    \n",
    "print(arr.dtype)     \n"
   ]
  },
  {
   "cell_type": "markdown",
   "id": "b459b3c7",
   "metadata": {},
   "source": [
    "### Ejercicio práctico \n",
    "\n",
    "**Objetivo**: Poner en práctica la creación de arrays y manipulación básica.\n",
    "\n",
    "**Instrucciones**:\n",
    "* Crea una matriz 3x4 con valores del 0 al 11.\n",
    "\n",
    "* Cambia su forma a 4x3.\n",
    "\n",
    "* Obtén una versión 1D de la matriz con flatten.\n",
    "\n",
    "* Crea un array 3x3 de números aleatorios enteros entre 10 y 99.\n",
    "\n",
    "* Extrae la propiedad shape, size, ndim y dtype de cada array.\n",
    "\n",
    "* Usa np.linspace para crear un array de 8 valores equidistantes entre 0 y 1."
   ]
  },
  {
   "cell_type": "code",
   "execution_count": 64,
   "id": "a237fc3a",
   "metadata": {},
   "outputs": [
    {
     "data": {
      "text/plain": [
       "array([[0, 1, 2],\n",
       "       [3, 4, 5],\n",
       "       [6, 7, 8]])"
      ]
     },
     "execution_count": 64,
     "metadata": {},
     "output_type": "execute_result"
    }
   ],
   "source": [
    "mat = np.array(\n",
    "    [(0, 1, 2), (3, 4, 5), (6, 7, 8)]\n",
    ")\n",
    "mat"
   ]
  },
  {
   "cell_type": "code",
   "execution_count": 72,
   "id": "d78c0805",
   "metadata": {},
   "outputs": [
    {
     "data": {
      "text/plain": [
       "array([[7, 5, 7],\n",
       "       [2, 5, 4],\n",
       "       [2, 9, 6]], dtype=int32)"
      ]
     },
     "execution_count": 72,
     "metadata": {},
     "output_type": "execute_result"
    }
   ],
   "source": [
    "mat = np.random.randint(0, 11, size=(3, 3))\n",
    "mat"
   ]
  },
  {
   "cell_type": "code",
   "execution_count": 86,
   "id": "f3b0c720",
   "metadata": {},
   "outputs": [
    {
     "name": "stdout",
     "output_type": "stream",
     "text": [
      "[[ 0  1  2  3]\n",
      " [ 4  5  6  7]\n",
      " [ 8  9 10 11]]\n",
      "(3, 4)\n"
     ]
    }
   ],
   "source": [
    "# Crea una matriz 3x4 con valores del 0 al 11.\n",
    "\n",
    "mat = np.arange(0, 12, 1).reshape(3, 4)\n",
    "print(mat)\n",
    "print(mat.shape)"
   ]
  },
  {
   "cell_type": "code",
   "execution_count": 89,
   "id": "ce49795a",
   "metadata": {},
   "outputs": [
    {
     "name": "stdout",
     "output_type": "stream",
     "text": [
      "[[ 0  1  2]\n",
      " [ 3  4  5]\n",
      " [ 6  7  8]\n",
      " [ 9 10 11]]\n",
      "(4, 3)\n"
     ]
    }
   ],
   "source": [
    "# Cambia su forma a 4x3.\n",
    "\n",
    "rmat = mat.reshape(4, -1)\n",
    "print(rmat)\n",
    "print(rmat.shape)"
   ]
  },
  {
   "cell_type": "code",
   "execution_count": 93,
   "id": "b50cbf91",
   "metadata": {},
   "outputs": [
    {
     "data": {
      "text/plain": [
       "array([ 0,  1,  2,  3,  4,  5,  6,  7,  8,  9, 10, 11])"
      ]
     },
     "execution_count": 93,
     "metadata": {},
     "output_type": "execute_result"
    }
   ],
   "source": [
    "# Obtén una versión 1D de la matriz con flatten.\n",
    "mat_flatten = mat.flatten()\n",
    "mat_flatten"
   ]
  },
  {
   "cell_type": "code",
   "execution_count": 94,
   "id": "e31bb3f4",
   "metadata": {},
   "outputs": [
    {
     "data": {
      "text/plain": [
       "array([[ 0,  1,  2,  3,  4,  5,  6,  7,  8,  9, 10, 11]])"
      ]
     },
     "execution_count": 94,
     "metadata": {},
     "output_type": "execute_result"
    }
   ],
   "source": [
    "fmat = mat.reshape(1, -1)\n",
    "fmat"
   ]
  },
  {
   "cell_type": "code",
   "execution_count": 105,
   "id": "15c018dd",
   "metadata": {},
   "outputs": [
    {
     "data": {
      "text/plain": [
       "array([[0, 0, 0, 0, 0, 0, 0, 0, 0, 0, 0, 0]])"
      ]
     },
     "execution_count": 105,
     "metadata": {},
     "output_type": "execute_result"
    }
   ],
   "source": [
    "mat_flatten - fmat"
   ]
  },
  {
   "cell_type": "code",
   "execution_count": 107,
   "id": "4be85391",
   "metadata": {},
   "outputs": [
    {
     "data": {
      "text/plain": [
       "array([[96, 81, 31],\n",
       "       [45, 68, 62],\n",
       "       [23, 35, 51]], dtype=int32)"
      ]
     },
     "execution_count": 107,
     "metadata": {},
     "output_type": "execute_result"
    }
   ],
   "source": [
    "# Crea un array 3x3 de números aleatorios enteros entre 10 y 99.\n",
    "\n",
    "rdm = np.random.randint(10, 99, size=(3, 3))\n",
    "rdm"
   ]
  },
  {
   "cell_type": "code",
   "execution_count": 109,
   "id": "6a5f225c",
   "metadata": {},
   "outputs": [],
   "source": [
    "# Extrae la propiedad shape, size, ndim y dtype de cada array.\n",
    "\n",
    "def info(arr: np.ndarray):\n",
    "    return {\n",
    "        'shape': arr.shape, \n",
    "        'size': arr.size,\n",
    "        'ndim': arr.ndim,\n",
    "        'dtype': arr.dtype\n",
    "    }"
   ]
  },
  {
   "cell_type": "code",
   "execution_count": 110,
   "id": "d7850c56",
   "metadata": {},
   "outputs": [
    {
     "name": "stdout",
     "output_type": "stream",
     "text": [
      "{'shape': (3, 3), 'size': 9, 'ndim': 2, 'dtype': dtype('int32')}\n"
     ]
    }
   ],
   "source": [
    "print(info(rdm))"
   ]
  },
  {
   "cell_type": "code",
   "execution_count": 111,
   "id": "e501cb8b",
   "metadata": {},
   "outputs": [
    {
     "data": {
      "text/plain": [
       "array([0.        , 0.14285714, 0.28571429, 0.42857143, 0.57142857,\n",
       "       0.71428571, 0.85714286, 1.        ])"
      ]
     },
     "execution_count": 111,
     "metadata": {},
     "output_type": "execute_result"
    }
   ],
   "source": [
    "# Usa np.linspace para crear un array de 8 valores equidistantes entre 0 y 1.\n",
    "\n",
    "eqarr = np.linspace(0, 1, 8)\n",
    "eqarr"
   ]
  },
  {
   "cell_type": "markdown",
   "id": "1999227c",
   "metadata": {},
   "source": [
    "**Ejercicio 1**: Tablero de ajedrez (con ceros y unos)\n",
    "\n",
    "Objetivo: Usar slicing para crear una matriz 8x8 tipo ajedrez, donde los valores alternen entre 0 y 1 como un tablero real."
   ]
  },
  {
   "cell_type": "code",
   "execution_count": 142,
   "id": "01ac14d9",
   "metadata": {},
   "outputs": [
    {
     "data": {
      "text/plain": [
       "array([[1, 0, 1, 0, 1, 0, 1, 0],\n",
       "       [0, 1, 0, 1, 0, 1, 0, 1],\n",
       "       [1, 0, 1, 0, 1, 0, 1, 0],\n",
       "       [0, 1, 0, 1, 0, 1, 0, 1],\n",
       "       [1, 0, 1, 0, 1, 0, 1, 0],\n",
       "       [0, 1, 0, 1, 0, 1, 0, 1],\n",
       "       [1, 0, 1, 0, 1, 0, 1, 0],\n",
       "       [0, 1, 0, 1, 0, 1, 0, 1]])"
      ]
     },
     "execution_count": 142,
     "metadata": {},
     "output_type": "execute_result"
    }
   ],
   "source": [
    "board = np.zeros((8, 8), dtype=int)\n",
    "board[::2, ::2] = 1\n",
    "board[1::2, 1::2] = 1\n",
    "board"
   ]
  },
  {
   "cell_type": "markdown",
   "id": "a19aa0a8",
   "metadata": {},
   "source": [
    "**Ejercicio 2:** Normalización de una matriz\n",
    "\n",
    "Objetivo: Normalizar una matriz 5x5 de valores aleatorios enteros entre 0 y 100.\n",
    "\n"
   ]
  },
  {
   "cell_type": "code",
   "execution_count": 146,
   "id": "aacb8d53",
   "metadata": {},
   "outputs": [
    {
     "data": {
      "text/plain": [
       "array([[35, 84, 53, 91, 85],\n",
       "       [ 7, 28,  1,  5,  5],\n",
       "       [98, 62, 47,  2, 17],\n",
       "       [70, 71, 32, 45, 90],\n",
       "       [37, 66, 29, 43, 43]], dtype=int32)"
      ]
     },
     "execution_count": 146,
     "metadata": {},
     "output_type": "execute_result"
    }
   ],
   "source": [
    "mat = np.random.randint(0, 100, size=(5, 5))\n",
    "mat"
   ]
  },
  {
   "cell_type": "code",
   "execution_count": 149,
   "id": "c1d58e9e",
   "metadata": {},
   "outputs": [],
   "source": [
    "def normalize(x: np.ndarray): \n",
    "    return (x - x.min()) / (x.max() - x.min())"
   ]
  },
  {
   "cell_type": "code",
   "execution_count": 150,
   "id": "d3bf4035",
   "metadata": {},
   "outputs": [
    {
     "name": "stdout",
     "output_type": "stream",
     "text": [
      "[[0.35051546 0.8556701  0.53608247 0.92783505 0.86597938]\n",
      " [0.06185567 0.27835052 0.         0.04123711 0.04123711]\n",
      " [1.         0.62886598 0.4742268  0.01030928 0.16494845]\n",
      " [0.71134021 0.72164948 0.31958763 0.45360825 0.91752577]\n",
      " [0.37113402 0.67010309 0.28865979 0.43298969 0.43298969]]\n"
     ]
    }
   ],
   "source": [
    "print(normalize(mat))"
   ]
  },
  {
   "cell_type": "markdown",
   "id": "74a4e43d",
   "metadata": {},
   "source": [
    "**Ejercicio 3:** Diagonal dominante\n",
    "\n",
    "Objetivo: Crear una matriz cuadrada de tamaño 5x5 donde la diagonal principal tenga el valor 100, y el resto valores aleatorios entre 0 y 10."
   ]
  },
  {
   "cell_type": "code",
   "execution_count": 157,
   "id": "fa5fa101",
   "metadata": {},
   "outputs": [
    {
     "data": {
      "text/plain": [
       "array([[100.        ,   2.60768015,   9.71943018,   5.89353042,\n",
       "          6.88918761],\n",
       "       [  7.80685548, 100.        ,   8.76144736,   7.62910926,\n",
       "          9.56827664],\n",
       "       [  2.73939895,   9.92925194, 100.        ,   1.58921179,\n",
       "          4.07029081],\n",
       "       [  9.53568932,   8.30870024,   3.316382  , 100.        ,\n",
       "          6.69382906],\n",
       "       [  7.00808862,   2.81548628,   9.23805043,   1.49667163,\n",
       "        100.        ]])"
      ]
     },
     "execution_count": 157,
     "metadata": {},
     "output_type": "execute_result"
    }
   ],
   "source": [
    "mat = np.random.uniform(0, 10, size=(5, 5))\n",
    "np.fill_diagonal(mat, 100)\n",
    "mat"
   ]
  },
  {
   "cell_type": "markdown",
   "id": "dce5ae53",
   "metadata": {},
   "source": [
    "**Ejercicio 4:** Encontrar la fila con mayor suma\n",
    "\n",
    "Objetivo: Dada una matriz 6x4 de números enteros aleatorios entre 1 y 100, identificar:\n",
    "\n",
    "* El índice de la fila con mayor suma\n",
    "\n",
    "* El contenido de dicha fila"
   ]
  },
  {
   "cell_type": "code",
   "execution_count": 221,
   "id": "904b8000",
   "metadata": {},
   "outputs": [
    {
     "data": {
      "text/plain": [
       "array([[29, 28, 87, 68],\n",
       "       [61, 31, 33,  7],\n",
       "       [15, 30, 92, 43],\n",
       "       [84, 72, 37, 45],\n",
       "       [92, 35, 27, 29],\n",
       "       [36, 73, 76, 43]], dtype=int32)"
      ]
     },
     "execution_count": 221,
     "metadata": {},
     "output_type": "execute_result"
    }
   ],
   "source": [
    "mat = np.random.randint(1, 100, size=(6, 4))\n",
    "mat"
   ]
  },
  {
   "cell_type": "code",
   "execution_count": 226,
   "id": "e278c7bc",
   "metadata": {},
   "outputs": [
    {
     "name": "stdout",
     "output_type": "stream",
     "text": [
      "[212 132 180 238 183 228]\n",
      "[317 269 352 235]\n"
     ]
    }
   ],
   "source": [
    "print(mat.sum(axis=1)) # Sum over the rows\n",
    "print(mat.sum(axis=0)) # Sum the cols"
   ]
  },
  {
   "cell_type": "code",
   "execution_count": 223,
   "id": "2c83da8f",
   "metadata": {},
   "outputs": [],
   "source": [
    "def max_sum(x: np.ndarray): \n",
    "    row_sum = x.sum(axis=1)\n",
    "    max_index = np.argmax(row_sum)\n",
    "    return {\n",
    "        'index': max_index, \n",
    "        'row': x[max_index]\n",
    "    }"
   ]
  },
  {
   "cell_type": "code",
   "execution_count": 227,
   "id": "eb4b0cd7",
   "metadata": {},
   "outputs": [
    {
     "name": "stdout",
     "output_type": "stream",
     "text": [
      "{'index': np.int64(3), 'row': array([84, 72, 37, 45], dtype=int32)}\n"
     ]
    }
   ],
   "source": [
    "print(max_sum(mat))"
   ]
  },
  {
   "cell_type": "markdown",
   "id": "c6562e04",
   "metadata": {},
   "source": [
    "**Ejercicio 5**: Contar elementos bajo una condición\n",
    "\n",
    "Objetivo: Dada una matriz aleatoria 10x10 de valores entre 0 y 1, contar:\n",
    "\n",
    "* Cuántos elementos son mayores a 0.5\n",
    "\n",
    "* Cuántos están entre 0.25 y 0.75 (inclusive)"
   ]
  },
  {
   "cell_type": "code",
   "execution_count": 183,
   "id": "dee04d7a",
   "metadata": {},
   "outputs": [
    {
     "data": {
      "text/plain": [
       "array([[0.08291273, 0.49820072, 0.68795749, 0.67877018, 0.49481859,\n",
       "        0.21159774, 0.81283984, 0.19845363, 0.51264318, 0.60305853],\n",
       "       [0.88995969, 0.93418162, 0.97428524, 0.16076067, 0.31812001,\n",
       "        0.08161529, 0.67348334, 0.25773355, 0.01108229, 0.01212894],\n",
       "       [0.98769276, 0.00691209, 0.80717259, 0.05918972, 0.97305761,\n",
       "        0.16966328, 0.30556658, 0.84608208, 0.40613868, 0.08818913],\n",
       "       [0.01639399, 0.39116717, 0.18375882, 0.84623617, 0.25353922,\n",
       "        0.42466802, 0.36671558, 0.09404139, 0.54331455, 0.43154056],\n",
       "       [0.68532528, 0.99409598, 0.68559213, 0.67112807, 0.41250674,\n",
       "        0.49123728, 0.92859354, 0.79654039, 0.4714751 , 0.4248445 ],\n",
       "       [0.86405472, 0.16788487, 0.26890072, 0.18117641, 0.82096899,\n",
       "        0.19224574, 0.28140014, 0.9947003 , 0.52243194, 0.99492048],\n",
       "       [0.35795773, 0.99554861, 0.85058268, 0.91889393, 0.73404538,\n",
       "        0.47080634, 0.8979671 , 0.56158692, 0.86502468, 0.5960923 ],\n",
       "       [0.89839718, 0.66362407, 0.57769571, 0.96859914, 0.91647606,\n",
       "        0.94022082, 0.12888137, 0.64591136, 0.60287516, 0.97649002],\n",
       "       [0.90478239, 0.68460089, 0.4691829 , 0.4851195 , 0.95520353,\n",
       "        0.0966111 , 0.68474273, 0.0355291 , 0.47133075, 0.69417509],\n",
       "       [0.78019982, 0.50647517, 0.16343889, 0.03866786, 0.48786472,\n",
       "        0.44132614, 0.91120081, 0.32376832, 0.07124739, 0.28434276]])"
      ]
     },
     "execution_count": 183,
     "metadata": {},
     "output_type": "execute_result"
    }
   ],
   "source": [
    "mat = np.random.random(size=(10, 10))\n",
    "mat"
   ]
  },
  {
   "cell_type": "code",
   "execution_count": 184,
   "id": "3c5b85cf",
   "metadata": {},
   "outputs": [
    {
     "data": {
      "text/plain": [
       "51"
      ]
     },
     "execution_count": 184,
     "metadata": {},
     "output_type": "execute_result"
    }
   ],
   "source": [
    "# Cuántos elementos son mayores a 0.5\n",
    "len(mat[mat > 0.5])"
   ]
  },
  {
   "cell_type": "code",
   "execution_count": 192,
   "id": "53ec8c7c",
   "metadata": {},
   "outputs": [
    {
     "data": {
      "text/plain": [
       "np.int64(51)"
      ]
     },
     "execution_count": 192,
     "metadata": {},
     "output_type": "execute_result"
    }
   ],
   "source": [
    "# The numpy way: \n",
    "np.sum(mat > 0.5)  # It counts the True values"
   ]
  },
  {
   "cell_type": "code",
   "execution_count": 187,
   "id": "5a2c9b45",
   "metadata": {},
   "outputs": [
    {
     "data": {
      "text/plain": [
       "47"
      ]
     },
     "execution_count": 187,
     "metadata": {},
     "output_type": "execute_result"
    }
   ],
   "source": [
    "# Cuántos están entre 0.25 y 0.75 (inclusive)\n",
    "len(mat[(mat > 0.25) & (mat <= 0.75)])"
   ]
  },
  {
   "cell_type": "code",
   "execution_count": 188,
   "id": "4a281317",
   "metadata": {},
   "outputs": [
    {
     "data": {
      "text/plain": [
       "np.int64(47)"
      ]
     },
     "execution_count": 188,
     "metadata": {},
     "output_type": "execute_result"
    }
   ],
   "source": [
    "np.sum((mat > 0.25) & (mat <= 0.75))"
   ]
  },
  {
   "cell_type": "markdown",
   "id": "f158e781",
   "metadata": {},
   "source": [
    "**Ejercicio 6**: Modificar una matriz sin loops\n",
    "\n",
    "Objetivo: Crear una matriz 4x4 con valores del 0 al 15 y reemplazar todos los múltiplos de 3 con -1.\n"
   ]
  },
  {
   "cell_type": "code",
   "execution_count": 177,
   "id": "14755e34",
   "metadata": {},
   "outputs": [
    {
     "data": {
      "text/plain": [
       "array([[ 0,  1,  2,  3],\n",
       "       [ 4,  5,  6,  7],\n",
       "       [ 8,  9, 10, 11],\n",
       "       [12, 13, 14, 15]])"
      ]
     },
     "execution_count": 177,
     "metadata": {},
     "output_type": "execute_result"
    }
   ],
   "source": [
    "mat = np.arange(0, 16).reshape(4, 4)\n",
    "mat"
   ]
  },
  {
   "cell_type": "code",
   "execution_count": 178,
   "id": "74604df8",
   "metadata": {},
   "outputs": [
    {
     "data": {
      "text/plain": [
       "array([[-1,  1,  2, -1],\n",
       "       [ 4,  5, -1,  7],\n",
       "       [ 8, -1, 10, 11],\n",
       "       [-1, 13, 14, -1]])"
      ]
     },
     "execution_count": 178,
     "metadata": {},
     "output_type": "execute_result"
    }
   ],
   "source": [
    "mat[mat % 3 == 0] = -1\n",
    "mat  "
   ]
  },
  {
   "cell_type": "markdown",
   "id": "0a21b820",
   "metadata": {},
   "source": [
    "# Elementwise operations\n",
    "\n",
    "**¿Qué son las operaciones elementwise?**\n",
    "\n",
    "Cuando haces operaciones entre arrays del mismo shape, NumPy realiza la operación elemento a elemento sin necesidad de bucles explícitos.\n",
    "\n",
    "**Operaciones soportadas (arrays del mismo tamaño)**:\n",
    "\n",
    "* +, -, *, /, // (división entera), %, ** (potencia)\n",
    "\n",
    "* np.add, np.subtract, np.multiply, np.divide → funciones equivalentes si necesitas mayor control"
   ]
  },
  {
   "cell_type": "code",
   "execution_count": 2,
   "id": "ec584e35",
   "metadata": {},
   "outputs": [
    {
     "name": "stdout",
     "output_type": "stream",
     "text": [
      "[11 22 33]\n",
      "[10 40 90]\n",
      "[10. 10. 10.]\n",
      "[0 1 2]\n"
     ]
    }
   ],
   "source": [
    "a = np.array([1, 2, 3])\n",
    "b = np.array([10, 20, 30])\n",
    "\n",
    "print(a + b)  # [11 22 33]\n",
    "print(a * b)  # [10 40 90]\n",
    "print(b / a)  # [10. 10. 10.]\n",
    "print(a - 1)  # [0 1 2] (broadcasting con una constante)"
   ]
  },
  {
   "cell_type": "markdown",
   "id": "6a0538e8",
   "metadata": {},
   "source": [
    "The term **Broadcasting** describes how NumPy trats arrays with different shapes during arithmetic operations.  "
   ]
  },
  {
   "cell_type": "code",
   "execution_count": 6,
   "id": "8fb688b1",
   "metadata": {},
   "outputs": [
    {
     "data": {
      "text/plain": [
       "array([ True,  True,  True])"
      ]
     },
     "execution_count": 6,
     "metadata": {},
     "output_type": "execute_result"
    }
   ],
   "source": [
    "a = np.array([1, 2, 3])\n",
    "a * 2 == np.multiply(a,2)"
   ]
  },
  {
   "cell_type": "markdown",
   "id": "c9de3970",
   "metadata": {},
   "source": [
    "**Problema**: Simulación de puntajes de estudiantes\n",
    "\n",
    "Supón que tienes las calificaciones de 5 estudiantes en dos exámenes diferentes. Cada uno tiene un puntaje entre 0 y 100.\n",
    "\n",
    "Tu tarea es:\n",
    "\n",
    "1. Crear dos arrays aleatorios de shape (5,) que representen las calificaciones de los estudiantes en dos exámenes diferentes.\n",
    "\n",
    "2. Calcular el promedio por estudiante.\n",
    "\n",
    "3. Aplicar una penalización del 10% al segundo examen.\n",
    "\n",
    "4. Calcular el promedio final ajustado.\n",
    "\n",
    "5. Determinar cuántos estudiantes aprobaron (promedio final ajustado ≥ 60).\n",
    "\n"
   ]
  },
  {
   "cell_type": "code",
   "execution_count": 68,
   "id": "cc497461",
   "metadata": {},
   "outputs": [
    {
     "name": "stdout",
     "output_type": "stream",
     "text": [
      "[76.9 19.4 42.5 34.8 52.5]\n",
      "[95.1 33.9 85.6 19.3 14.9]\n"
     ]
    }
   ],
   "source": [
    "# 1\n",
    "test_1 = np.round(np.random.uniform(0, 100, size=5), 1)\n",
    "test_2 = np.round(np.random.uniform(0, 100, size=5), 1)\n",
    "print(test_1)\n",
    "print(test_2)\n"
   ]
  },
  {
   "cell_type": "code",
   "execution_count": 69,
   "id": "6986e2a3",
   "metadata": {},
   "outputs": [
    {
     "data": {
      "text/plain": [
       "array([86.  , 26.65, 64.05, 27.05, 33.7 ])"
      ]
     },
     "execution_count": 69,
     "metadata": {},
     "output_type": "execute_result"
    }
   ],
   "source": [
    "# 2\n",
    "avg_test = (test_1 + test_2) / 2\n",
    "avg_test"
   ]
  },
  {
   "cell_type": "code",
   "execution_count": 73,
   "id": "67e1c4cd",
   "metadata": {},
   "outputs": [
    {
     "data": {
      "text/plain": [
       "array([85.59, 30.51, 77.04, 17.37, 13.41])"
      ]
     },
     "execution_count": 73,
     "metadata": {},
     "output_type": "execute_result"
    }
   ],
   "source": [
    "# 3 \n",
    "test_2_pen = test_2 * 0.90\n",
    "test_2_pen"
   ]
  },
  {
   "cell_type": "code",
   "execution_count": 74,
   "id": "8b3f4f65",
   "metadata": {},
   "outputs": [
    {
     "data": {
      "text/plain": [
       "array([81.245, 24.955, 59.77 , 26.085, 32.955])"
      ]
     },
     "execution_count": 74,
     "metadata": {},
     "output_type": "execute_result"
    }
   ],
   "source": [
    "# 4 \n",
    "avg_test_penalized = (test_1 + test_2_pen) / 2\n",
    "avg_test_penalized "
   ]
  },
  {
   "cell_type": "code",
   "execution_count": 75,
   "id": "8008ac30",
   "metadata": {},
   "outputs": [
    {
     "name": "stdout",
     "output_type": "stream",
     "text": [
      "Total of Approved Students:  1\n"
     ]
    }
   ],
   "source": [
    "# 5\n",
    "print('Total of Approved Students: ', np.sum(avg_test_penalized > 60))"
   ]
  },
  {
   "cell_type": "markdown",
   "id": "bc477c20",
   "metadata": {},
   "source": [
    "**Ejercicio 1**: Normalización por columnas con broadcasting\n",
    "\n",
    "Tienes una matriz X de shape (100, 5) que representa 100 muestras con 5 características numéricas.\n",
    "\n",
    "Tu tarea:\n",
    "1. Genera X con valores aleatorios entre 0 y 100.\n",
    "\n",
    "2. Normaliza cada columna usando min-max scaling\n",
    "3. Verifica que el valor mínimo por columna sea 0 y el máximo sea 1."
   ]
  },
  {
   "cell_type": "code",
   "execution_count": 94,
   "id": "ef9384da",
   "metadata": {},
   "outputs": [
    {
     "data": {
      "text/plain": [
       "array([[ 5, 39, 83],\n",
       "       [38, 99, 28],\n",
       "       [28, 62, 43]], dtype=int32)"
      ]
     },
     "execution_count": 94,
     "metadata": {},
     "output_type": "execute_result"
    }
   ],
   "source": [
    "sample_data = np.random.randint(0, 100, (3, 3))\n",
    "sample_data"
   ]
  },
  {
   "cell_type": "code",
   "execution_count": 103,
   "id": "3a1f5f4e",
   "metadata": {},
   "outputs": [
    {
     "data": {
      "text/plain": [
       "array([ 5, 39, 28], dtype=int32)"
      ]
     },
     "execution_count": 103,
     "metadata": {},
     "output_type": "execute_result"
    }
   ],
   "source": [
    "min_ = sample_data.min(axis=0)\n",
    "min_"
   ]
  },
  {
   "cell_type": "code",
   "execution_count": 107,
   "id": "57bf9cd4",
   "metadata": {},
   "outputs": [
    {
     "data": {
      "text/plain": [
       "array([[ 0,  0, 55],\n",
       "       [33, 60,  0],\n",
       "       [23, 23, 15]], dtype=int32)"
      ]
     },
     "execution_count": 107,
     "metadata": {},
     "output_type": "execute_result"
    }
   ],
   "source": [
    "sample_data - min_"
   ]
  },
  {
   "cell_type": "code",
   "execution_count": 106,
   "id": "0a3d2501",
   "metadata": {},
   "outputs": [
    {
     "data": {
      "text/plain": [
       "array([[  0,  34,  78],\n",
       "       [ -1,  60, -11],\n",
       "       [  0,  34,  15]], dtype=int32)"
      ]
     },
     "execution_count": 106,
     "metadata": {},
     "output_type": "execute_result"
    }
   ],
   "source": [
    "sample_data - min_.reshape(3, 1)"
   ]
  },
  {
   "cell_type": "code",
   "execution_count": 95,
   "id": "46db7e59",
   "metadata": {},
   "outputs": [],
   "source": [
    "def normalize_b(X: np.ndarray):\n",
    "    min_ = X.min(axis=0)\n",
    "    max_ = X.max(axis=0)\n",
    "    return (X - min_) / (max_ - min_)"
   ]
  },
  {
   "cell_type": "code",
   "execution_count": 108,
   "id": "92905052",
   "metadata": {},
   "outputs": [
    {
     "data": {
      "text/plain": [
       "array([[0.        , 0.        , 1.        ],\n",
       "       [1.        , 1.        , 0.        ],\n",
       "       [0.6969697 , 0.38333333, 0.27272727]])"
      ]
     },
     "execution_count": 108,
     "metadata": {},
     "output_type": "execute_result"
    }
   ],
   "source": [
    "norm_data = normalize_b(sample_data)\n",
    "norm_data"
   ]
  },
  {
   "cell_type": "markdown",
   "id": "8ab807e5",
   "metadata": {},
   "source": [
    "**Ejercicio 2**: Costo cuadrático medio (MSE) entre predicciones\n",
    "\n",
    "Simula una situación de modelo de regresión.\n",
    "\n",
    "Tu tarea:\n",
    "1. Crea dos arrays `y_true` y `y_pred` de 100 elementos con valores aleatorios entre 0 y 1.\n",
    "\n",
    "2. Calcula el error cuadrático medio (MSE):\n",
    "\n",
    "3. Si el MSE es mayor a 0.05, imprime “Modelo inaceptable”, si no, imprime “Modelo aceptable”."
   ]
  },
  {
   "cell_type": "code",
   "execution_count": 5,
   "id": "efaaff69",
   "metadata": {},
   "outputs": [],
   "source": [
    "y_true = np.random.uniform(0, 1, 100)\n",
    "y_pred = np.random.uniform(0, 1, 100)\n",
    "# print(y_true)\n",
    "# print(y_pred)"
   ]
  },
  {
   "cell_type": "code",
   "execution_count": 6,
   "id": "e2c42128",
   "metadata": {},
   "outputs": [],
   "source": [
    "def mse(y_pred: np.ndarray, y_true: np.ndarray): \n",
    "    n = len(y_pred)\n",
    "    return (1/n) * np.sum(y_true - y_pred)** 2 "
   ]
  },
  {
   "cell_type": "code",
   "execution_count": 10,
   "id": "e4930cf0",
   "metadata": {},
   "outputs": [
    {
     "name": "stdout",
     "output_type": "stream",
     "text": [
      "Modelo Aceptable 0.02408441633338904\n"
     ]
    }
   ],
   "source": [
    "mse_val = mse(np.random.uniform(0, 1, 100), np.random.uniform(0, 1, 100))\n",
    "if mse_val > 0.05: \n",
    "    print('Modelo inaceptable', mse_val)\n",
    "else: \n",
    "    print('Modelo Aceptable', mse_val)"
   ]
  },
  {
   "cell_type": "markdown",
   "id": "949c9054",
   "metadata": {},
   "source": [
    "**Ejercicio 3:** Clasificación con umbral variable\n",
    "\n",
    "Tienes predicciones continuas (`y_prob`) y deseas clasificarlas en 0 o 1 según un umbral que cambia por grupo.\n",
    "\n",
    "Tu tarea:\n",
    "1. Crea un array y_prob de shape (12,) con valores entre 0 y 1.\n",
    "\n",
    "2. Crea un array thresholds de shape (4,) con valores [0.3, 0.5, 0.7, 0.9].\n",
    "\n",
    "3. Divide y_prob en 4 grupos de 3 valores. Para cada grupo, aplica su respectivo threshold: si el valor es mayor al umbral, se clasifica como 1, si no 0.\n",
    "\n",
    "3. Obtén un array de clasificaciones de shape (12,).\n",
    "\n"
   ]
  },
  {
   "cell_type": "code",
   "execution_count": 133,
   "id": "f1a724d0",
   "metadata": {},
   "outputs": [
    {
     "data": {
      "text/plain": [
       "(12,)"
      ]
     },
     "execution_count": 133,
     "metadata": {},
     "output_type": "execute_result"
    }
   ],
   "source": [
    "np.random.random(12).shape"
   ]
  },
  {
   "cell_type": "code",
   "execution_count": 134,
   "id": "34ad52ea",
   "metadata": {},
   "outputs": [],
   "source": [
    "y_prob_test = np.random.random(12)"
   ]
  },
  {
   "cell_type": "code",
   "execution_count": null,
   "id": "5ae1b046",
   "metadata": {},
   "outputs": [],
   "source": [
    "def classify(data: np.ndarray):\n",
    "    thresh = np.array([0.3, 0.5, 0.7, 0.9])\n",
    "    "
   ]
  },
  {
   "cell_type": "markdown",
   "id": "b2ecab6a",
   "metadata": {},
   "source": [
    "# Indexing and Slicing"
   ]
  },
  {
   "cell_type": "code",
   "execution_count": 18,
   "id": "e1538dde",
   "metadata": {},
   "outputs": [
    {
     "name": "stdout",
     "output_type": "stream",
     "text": [
      "10\n",
      "2\n"
     ]
    }
   ],
   "source": [
    "# Unidimensional and multidimensional slicing\n",
    "\n",
    "a = np.array([10, 20, 30])\n",
    "print(a[0])\n",
    "\n",
    "b = np.array([[1, 2], [3, 4]])\n",
    "print(b[0, 1])"
   ]
  },
  {
   "cell_type": "code",
   "execution_count": 27,
   "id": "9ba27f21",
   "metadata": {},
   "outputs": [
    {
     "name": "stdout",
     "output_type": "stream",
     "text": [
      "[20 30]\n",
      "\n",
      "[2 4]\n",
      "\n",
      "[1 2]\n",
      "\n",
      "[[1 2]\n",
      " [3 4]]\n"
     ]
    }
   ],
   "source": [
    "# Slicing\n",
    "print(a[1:])  # from the first\n",
    "print()\n",
    "print(b[:, 1])  # second col\n",
    "print()\n",
    "print(b[0, :])  # first row\n",
    "print()\n",
    "print(b[0:2, 0:2])  # submatrix"
   ]
  },
  {
   "cell_type": "code",
   "execution_count": 28,
   "id": "5728fdba",
   "metadata": {},
   "outputs": [
    {
     "data": {
      "text/plain": [
       "array([30, 20, 10])"
      ]
     },
     "execution_count": 28,
     "metadata": {},
     "output_type": "execute_result"
    }
   ],
   "source": [
    "a[::-1]  # row reverse"
   ]
  },
  {
   "cell_type": "code",
   "execution_count": 30,
   "id": "5786257c",
   "metadata": {},
   "outputs": [
    {
     "data": {
      "text/plain": [
       "array([[4, 3],\n",
       "       [2, 1]])"
      ]
     },
     "execution_count": 30,
     "metadata": {},
     "output_type": "execute_result"
    }
   ],
   "source": [
    "b[::-1, ::-1] # matrix reverse"
   ]
  },
  {
   "cell_type": "code",
   "execution_count": 31,
   "id": "7cc58cbc",
   "metadata": {},
   "outputs": [
    {
     "data": {
      "text/plain": [
       "array([2, 3])"
      ]
     },
     "execution_count": 31,
     "metadata": {},
     "output_type": "execute_result"
    }
   ],
   "source": [
    "# Fancy indexing\n",
    "b[[0, 1], [1, 0]]  # b[0,1] and b[1,0]"
   ]
  },
  {
   "cell_type": "markdown",
   "id": "5ad18943",
   "metadata": {},
   "source": [
    "**Práctica**: Extracción de submatrices\n",
    "\n",
    "Supón que tienes una imagen en escala de grises representada como una matriz 2D de tamaño (10, 10) con valores entre 0 y 255.\n",
    "\n",
    "Tu tarea:\n",
    "\n",
    "1. Crea una matriz img de np.random.randint(0, 256, (10, 10)).\n",
    "2. Extrae la esquina superior izquierda (submatriz de 3x3).\n",
    "3. Extrae la fila central completa.\n",
    "4. Extrae la columna derecha completa.\n",
    "5. Extrae el cuadro central de 4x4.\n",
    "6. Crea una versión espejada horizontalmente de la imagen.\n",
    "7. Crea una versión rotada 90° en sentido horario.\n",
    "\n",
    "*Bonus*: Calcula el promedio de los píxeles en la submatriz 4x4 del centro.\n",
    "\n"
   ]
  },
  {
   "cell_type": "code",
   "execution_count": 78,
   "id": "016b7a20",
   "metadata": {},
   "outputs": [
    {
     "data": {
      "text/plain": [
       "array([[  2,  46, 125, 102, 151,  21, 233,   5, 127,  97],\n",
       "       [ 51, 204, 238,  59,   4, 158, 171, 241,  64, 190],\n",
       "       [212, 255, 230,  46, 246,  56, 250, 205, 108,  98],\n",
       "       [114, 119,  89, 110, 100,  86,  52, 187,  92, 222],\n",
       "       [171, 208, 158, 184, 122, 183, 249,  85, 243,  92],\n",
       "       [ 49, 129, 112, 106, 121, 244, 255, 147,  87,  37],\n",
       "       [193,  40, 115, 119, 200,   8,  70,  47,  58,  97],\n",
       "       [218, 247, 104, 158, 141, 254,   2, 212, 171, 226],\n",
       "       [166, 122, 138, 255, 183,  86, 217, 133, 253, 129],\n",
       "       [ 48, 122,  50,  43,  31, 207,  56,  90,  79,  65]], dtype=int32)"
      ]
     },
     "execution_count": 78,
     "metadata": {},
     "output_type": "execute_result"
    }
   ],
   "source": [
    "img = np.random.randint(0, 256, (10, 10))\n",
    "img"
   ]
  },
  {
   "cell_type": "code",
   "execution_count": 66,
   "id": "a1451567",
   "metadata": {},
   "outputs": [
    {
     "name": "stdout",
     "output_type": "stream",
     "text": [
      "[[149 253 191]\n",
      " [ 96 217 250]\n",
      " [180  32 252]]\n"
     ]
    }
   ],
   "source": [
    "# Esquina superior izquierda\n",
    "upper_left = img[:3, :3]\n",
    "print(upper_left)"
   ]
  },
  {
   "cell_type": "code",
   "execution_count": 67,
   "id": "8fd40a2d",
   "metadata": {},
   "outputs": [
    {
     "data": {
      "text/plain": [
       "array([[242],\n",
       "       [ 83],\n",
       "       [255],\n",
       "       [104],\n",
       "       [246],\n",
       "       [194],\n",
       "       [ 56],\n",
       "       [221],\n",
       "       [ 92],\n",
       "       [ 32]], dtype=int32)"
      ]
     },
     "execution_count": 67,
     "metadata": {},
     "output_type": "execute_result"
    }
   ],
   "source": [
    "# Fila central completa\n",
    "central_col = img[:, 5]\n",
    "central_col.reshape(-1, 1)"
   ]
  },
  {
   "cell_type": "code",
   "execution_count": 70,
   "id": "ddfa3e17",
   "metadata": {},
   "outputs": [
    {
     "data": {
      "text/plain": [
       "array([[149, 253, 191, 207, 255, 242,  51,  41, 127,  10],\n",
       "       [ 96, 217, 250,  18, 242,  83,   8, 163, 240,  85],\n",
       "       [180,  32, 252,   7, 235, 255,  21,  92,  95,  13],\n",
       "       [ 79, 242, 104, 250, 176, 104,  93,  70, 157,  48],\n",
       "       [234, 237, 152,  48,  14, 246,  26, 253,  25, 231],\n",
       "       [ 26,  14,  97, 226, 139, 194,  21, 174, 236, 147],\n",
       "       [ 71, 207, 173, 203,  77,  56, 176, 132,  84,  20],\n",
       "       [122, 112,  41, 216, 100, 221,  85,  25,  56, 147],\n",
       "       [ 21,  42,   4,  22, 216,  92,  37,  93,  60, 113],\n",
       "       [ 62,  14, 255,  18,  95,  32,  28, 193,  35,  24]], dtype=int32)"
      ]
     },
     "execution_count": 70,
     "metadata": {},
     "output_type": "execute_result"
    }
   ],
   "source": [
    "img"
   ]
  },
  {
   "cell_type": "code",
   "execution_count": 73,
   "id": "7263efce",
   "metadata": {},
   "outputs": [
    {
     "data": {
      "text/plain": [
       "array([[149, 253, 191, 207, 255, 242,  51,  41, 127,  10],\n",
       "       [ 96, 217, 250,  18, 242,  83,   8, 163, 240,  85],\n",
       "       [180,  32, 252,   7, 235, 255,  21,  92,  95,  13],\n",
       "       [ 79, 242, 104,   0,   0,   0,   0,  70, 157,  48],\n",
       "       [234, 237, 152,   0,   0,   0,   0, 253,  25, 231],\n",
       "       [ 26,  14,  97,   0,   0,   0,   0, 174, 236, 147],\n",
       "       [ 71, 207, 173,   0,   0,   0,   0, 132,  84,  20],\n",
       "       [122, 112,  41, 216, 100, 221,  85,  25,  56, 147],\n",
       "       [ 21,  42,   4,  22, 216,  92,  37,  93,  60, 113],\n",
       "       [ 62,  14, 255,  18,  95,  32,  28, 193,  35,  24]], dtype=int32)"
      ]
     },
     "execution_count": 73,
     "metadata": {},
     "output_type": "execute_result"
    }
   ],
   "source": [
    "img[3:7, 3:7] = 0\n",
    "img"
   ]
  },
  {
   "cell_type": "code",
   "execution_count": 74,
   "id": "294fff11",
   "metadata": {},
   "outputs": [
    {
     "data": {
      "text/plain": [
       "array([[0, 0, 0, 0],\n",
       "       [0, 0, 0, 0],\n",
       "       [0, 0, 0, 0],\n",
       "       [0, 0, 0, 0]], dtype=int32)"
      ]
     },
     "execution_count": 74,
     "metadata": {},
     "output_type": "execute_result"
    }
   ],
   "source": [
    "# Extrae el cuadro central de 3x3.\n",
    "\n",
    "center_4x4 = img[3:7, 3:7]\n",
    "center_4x4"
   ]
  },
  {
   "cell_type": "code",
   "execution_count": 76,
   "id": "683a6132",
   "metadata": {},
   "outputs": [
    {
     "data": {
      "text/plain": [
       "np.float64(0.0)"
      ]
     },
     "execution_count": 76,
     "metadata": {},
     "output_type": "execute_result"
    }
   ],
   "source": [
    "np.mean(center_4x4)"
   ]
  },
  {
   "cell_type": "code",
   "execution_count": null,
   "id": "186aab52",
   "metadata": {},
   "outputs": [
    {
     "data": {
      "text/plain": [
       "array([[ 66, 115, 184,  49, 159,  87,   1, 233, 175, 225],\n",
       "       [178, 161, 116,  44, 147, 135, 116, 103, 241, 235],\n",
       "       [170,  70,  13,  31, 221, 145,   3, 124,  26, 155],\n",
       "       [185, 114,  52, 159,  55, 135,  45,  65,  57, 238],\n",
       "       [ 84, 140,  38,  62, 172, 146, 159,  29, 130, 236],\n",
       "       [158,  62, 157,  25, 200, 191, 175, 212,  96, 173],\n",
       "       [149,  73, 159,  89, 186,  91, 139, 198,  41,  51],\n",
       "       [105, 240, 239, 102,  81, 226, 100, 100, 131,  34],\n",
       "       [138, 159, 199, 145,  33,  37,  66, 155,   0, 237],\n",
       "       [148, 182, 113, 164, 106, 182, 103, 238, 236, 202]], dtype=int32)"
      ]
     },
     "execution_count": 62,
     "metadata": {},
     "output_type": "execute_result"
    }
   ],
   "source": [
    "# Crea una versión espejada horizontalmente de la imagen.\n",
    "# \n",
    "horizontal_reflex = img[:, ::-1]\n",
    "horizontal_reflex"
   ]
  },
  {
   "cell_type": "code",
   "execution_count": 79,
   "id": "8fe96e2c",
   "metadata": {},
   "outputs": [
    {
     "data": {
      "text/plain": [
       "array([[  2,  46, 125, 102, 151,  21, 233,   5, 127,  97],\n",
       "       [ 51, 204, 238,  59,   4, 158, 171, 241,  64, 190],\n",
       "       [212, 255, 230,  46, 246,  56, 250, 205, 108,  98],\n",
       "       [114, 119,  89, 110, 100,  86,  52, 187,  92, 222],\n",
       "       [171, 208, 158, 184, 122, 183, 249,  85, 243,  92],\n",
       "       [ 49, 129, 112, 106, 121, 244, 255, 147,  87,  37],\n",
       "       [193,  40, 115, 119, 200,   8,  70,  47,  58,  97],\n",
       "       [218, 247, 104, 158, 141, 254,   2, 212, 171, 226],\n",
       "       [166, 122, 138, 255, 183,  86, 217, 133, 253, 129],\n",
       "       [ 48, 122,  50,  43,  31, 207,  56,  90,  79,  65]], dtype=int32)"
      ]
     },
     "execution_count": 79,
     "metadata": {},
     "output_type": "execute_result"
    }
   ],
   "source": [
    "img"
   ]
  },
  {
   "cell_type": "code",
   "execution_count": 75,
   "id": "86a6cc4e",
   "metadata": {},
   "outputs": [],
   "source": [
    "# Crea una versión rotada 90° en sentido horario.\n",
    "def rotate_90_degrees(arr: np.ndarray):\n",
    "    return arr.T[::-1, :]"
   ]
  },
  {
   "cell_type": "code",
   "execution_count": 80,
   "id": "e99b45e1",
   "metadata": {},
   "outputs": [
    {
     "name": "stdout",
     "output_type": "stream",
     "text": [
      "[[ 97 190  98 222  92  37  97 226 129  65]\n",
      " [127  64 108  92 243  87  58 171 253  79]\n",
      " [  5 241 205 187  85 147  47 212 133  90]\n",
      " [233 171 250  52 249 255  70   2 217  56]\n",
      " [ 21 158  56  86 183 244   8 254  86 207]\n",
      " [151   4 246 100 122 121 200 141 183  31]\n",
      " [102  59  46 110 184 106 119 158 255  43]\n",
      " [125 238 230  89 158 112 115 104 138  50]\n",
      " [ 46 204 255 119 208 129  40 247 122 122]\n",
      " [  2  51 212 114 171  49 193 218 166  48]]\n"
     ]
    }
   ],
   "source": [
    "print(rotate_90_degrees(img))"
   ]
  },
  {
   "cell_type": "markdown",
   "id": "fbfb163c",
   "metadata": {},
   "source": [
    "#### Rotating practice"
   ]
  },
  {
   "cell_type": "code",
   "execution_count": 83,
   "id": "ab9b969a",
   "metadata": {},
   "outputs": [
    {
     "data": {
      "text/plain": [
       "array([[1, 2, 3],\n",
       "       [4, 5, 6],\n",
       "       [7, 8, 9]])"
      ]
     },
     "execution_count": 83,
     "metadata": {},
     "output_type": "execute_result"
    }
   ],
   "source": [
    "A = np.arange(1, 10).reshape(3, 3)\n",
    "A"
   ]
  },
  {
   "cell_type": "code",
   "execution_count": 88,
   "id": "53ef6f29",
   "metadata": {},
   "outputs": [
    {
     "data": {
      "text/plain": [
       "array([[3, 6, 9],\n",
       "       [2, 5, 8],\n",
       "       [1, 4, 7]])"
      ]
     },
     "execution_count": 88,
     "metadata": {},
     "output_type": "execute_result"
    }
   ],
   "source": [
    "A.T[::-1, :]"
   ]
  },
  {
   "cell_type": "code",
   "execution_count": 90,
   "id": "efbce286",
   "metadata": {},
   "outputs": [
    {
     "data": {
      "text/plain": [
       "array([[7, 4, 1],\n",
       "       [8, 5, 2],\n",
       "       [9, 6, 3]])"
      ]
     },
     "execution_count": 90,
     "metadata": {},
     "output_type": "execute_result"
    }
   ],
   "source": [
    "np.rot90(A, k=-1)"
   ]
  },
  {
   "cell_type": "markdown",
   "id": "518c9a4e",
   "metadata": {},
   "source": [
    "# Boolean masks\n",
    "\n",
    "Cuando se aplica una condición a un array, NumPy devuelve un array booleano del mismo shape, con True donde la condición se cumple. "
   ]
  },
  {
   "cell_type": "code",
   "execution_count": 2,
   "id": "d5ad8c46",
   "metadata": {},
   "outputs": [
    {
     "data": {
      "text/plain": [
       "array([4, 5])"
      ]
     },
     "execution_count": 2,
     "metadata": {},
     "output_type": "execute_result"
    }
   ],
   "source": [
    "a = np.array([1, 2, 3, 4, 5])\n",
    "mask = a > 3\n",
    "result = a[mask] \n",
    "result"
   ]
  },
  {
   "cell_type": "markdown",
   "id": "eb929e30",
   "metadata": {},
   "source": [
    "**Práctica**\n",
    "\n",
    "Genera un array 1D de 20 enteros aleatorios entre 0 y 100. Filtra todos los elementos que sean pares y mayores que la mediana del array."
   ]
  },
  {
   "cell_type": "code",
   "execution_count": 5,
   "id": "95e6fc5b",
   "metadata": {},
   "outputs": [
    {
     "data": {
      "text/plain": [
       "array([57, 54, 61, 31, 91, 51, 14, 30,  4, 96, 75,  1, 92,  0, 41, 43,  8,\n",
       "       48, 18, 80], dtype=int32)"
      ]
     },
     "execution_count": 5,
     "metadata": {},
     "output_type": "execute_result"
    }
   ],
   "source": [
    "arr = np.random.randint(0, 100, 20)\n",
    "arr"
   ]
  },
  {
   "cell_type": "code",
   "execution_count": 10,
   "id": "f987ceb2",
   "metadata": {},
   "outputs": [
    {
     "data": {
      "text/plain": [
       "np.float64(45.5)"
      ]
     },
     "execution_count": 10,
     "metadata": {},
     "output_type": "execute_result"
    }
   ],
   "source": [
    "np.median(arr)"
   ]
  },
  {
   "cell_type": "code",
   "execution_count": 8,
   "id": "fb908c85",
   "metadata": {},
   "outputs": [
    {
     "data": {
      "text/plain": [
       "array([False,  True, False, False, False, False, False, False, False,\n",
       "        True, False, False,  True, False, False, False, False,  True,\n",
       "       False,  True])"
      ]
     },
     "execution_count": 8,
     "metadata": {},
     "output_type": "execute_result"
    }
   ],
   "source": [
    "mask =  (arr % 2 == 0) & (arr > np.median(arr))\n",
    "mask"
   ]
  },
  {
   "cell_type": "code",
   "execution_count": 9,
   "id": "1112831c",
   "metadata": {},
   "outputs": [
    {
     "data": {
      "text/plain": [
       "array([54, 96, 92, 48, 80], dtype=int32)"
      ]
     },
     "execution_count": 9,
     "metadata": {},
     "output_type": "execute_result"
    }
   ],
   "source": [
    "arr[mask]"
   ]
  },
  {
   "cell_type": "markdown",
   "id": "850505b3",
   "metadata": {},
   "source": [
    "**Ejercicio 1**: Números entre percentiles\n",
    "\n",
    "Genera un array 1D de 50 valores flotantes aleatorios entre 0 y 1. Filtra todos los valores que estén entre el percentil 25 y 75.\n",
    "\n",
    "*Hint*: Usa np.percentile.\n",
    "\n"
   ]
  },
  {
   "cell_type": "code",
   "execution_count": 16,
   "id": "1da9bb69",
   "metadata": {},
   "outputs": [
    {
     "data": {
      "text/plain": [
       "array([0.65548667, 0.18110136, 0.75840702, 0.88283412, 0.21210202,\n",
       "       0.59129479, 0.22212184, 0.56654607, 0.3242446 , 0.97317797,\n",
       "       0.69032044, 0.3062604 , 0.14068642, 0.83585733, 0.00414706,\n",
       "       0.8709351 , 0.96325502, 0.32332681, 0.47804948, 0.57622323,\n",
       "       0.79283536, 0.51868083, 0.38943034, 0.41133883, 0.28986522,\n",
       "       0.01699074, 0.57750731, 0.47917905, 0.45258569, 0.55245296,\n",
       "       0.81897201, 0.46322157, 0.34719486, 0.00679068, 0.42323428,\n",
       "       0.55091154, 0.64059958, 0.67852409, 0.23615281, 0.28010862,\n",
       "       0.28452952, 0.32897992, 0.74517467, 0.26007071, 0.43880256,\n",
       "       0.31740607, 0.97845783, 0.09117445, 0.42047901, 0.9061417 ])"
      ]
     },
     "execution_count": 16,
     "metadata": {},
     "output_type": "execute_result"
    }
   ],
   "source": [
    "arr = np.random.random(50)\n",
    "arr"
   ]
  },
  {
   "cell_type": "code",
   "execution_count": 24,
   "id": "1ff7ddbb",
   "metadata": {},
   "outputs": [
    {
     "name": "stdout",
     "output_type": "stream",
     "text": [
      "25% 0.29396401225717395\n",
      "75% 0.6727647325324295\n"
     ]
    },
    {
     "data": {
      "text/plain": [
       "array([0.3062604 , 0.31740607, 0.32332681, 0.3242446 , 0.32897992,\n",
       "       0.34719486, 0.38943034, 0.41133883, 0.42047901, 0.42323428,\n",
       "       0.43880256, 0.45258569, 0.46322157, 0.47804948, 0.47917905,\n",
       "       0.51868083, 0.55091154, 0.55245296, 0.56654607, 0.57622323,\n",
       "       0.57750731, 0.59129479, 0.64059958, 0.65548667])"
      ]
     },
     "execution_count": 24,
     "metadata": {},
     "output_type": "execute_result"
    }
   ],
   "source": [
    "percent_25 = np.percentile(arr, 25)\n",
    "print('25%', percent_25)\n",
    "percent_75 = np.percentile(arr, 75)\n",
    "print('75%', percent_75)\n",
    "mask = (arr >= percent_25) & (arr <= percent_75)\n",
    "np.sort(arr[mask])"
   ]
  },
  {
   "cell_type": "markdown",
   "id": "5e216fd2",
   "metadata": {},
   "source": [
    "**Ejercicio 2**: Reemplazar por condiciones\n",
    "\n",
    "Dado un array de enteros aleatorios de tamaño (6, 6) entre 0 y 100, reemplaza todos los valores impares menores que 50 por -1.\n",
    "\n"
   ]
  },
  {
   "cell_type": "code",
   "execution_count": 25,
   "id": "7de4743e",
   "metadata": {},
   "outputs": [
    {
     "data": {
      "text/plain": [
       "array([[28, 62, 61, 55, 85, 71],\n",
       "       [23, 96, 90, 28, 89, 70],\n",
       "       [70, 90,  0, 33, 76, 64],\n",
       "       [58, 18, 70, 95,  4,  2],\n",
       "       [99, 23, 83, 76, 40,  9],\n",
       "       [39, 92, 33, 94, 41, 45]], dtype=int32)"
      ]
     },
     "execution_count": 25,
     "metadata": {},
     "output_type": "execute_result"
    }
   ],
   "source": [
    "arr = np.random.randint(0, 100, size=(6, 6))\n",
    "arr"
   ]
  },
  {
   "cell_type": "code",
   "execution_count": 26,
   "id": "affb7042",
   "metadata": {},
   "outputs": [
    {
     "data": {
      "text/plain": [
       "array([[-1, 62, 61, 55, 85, 71],\n",
       "       [-1, 96, 90, -1, 89, 70],\n",
       "       [70, 90, -1, -1, 76, 64],\n",
       "       [58, -1, 70, 95, -1, -1],\n",
       "       [99, -1, 83, 76, -1, -1],\n",
       "       [-1, 92, -1, 94, -1, -1]], dtype=int32)"
      ]
     },
     "execution_count": 26,
     "metadata": {},
     "output_type": "execute_result"
    }
   ],
   "source": [
    "mask = arr < 50\n",
    "arr[mask] = -1\n",
    "arr"
   ]
  },
  {
   "cell_type": "markdown",
   "id": "a257e108",
   "metadata": {},
   "source": [
    "**Ejercicio 3**: Índices de valores cercanos\n",
    "\n",
    "Dado un array flotante de 100 valores entre 0 y 10, encuentra los índices de los valores que están a menos de 0.5 del valor 5.0.\n",
    "\n",
    "*Hint*: np.abs(arr - 5.0) < 0.5 + np.where(...)\n",
    "\n"
   ]
  },
  {
   "cell_type": "code",
   "execution_count": 40,
   "id": "0c1e3664",
   "metadata": {},
   "outputs": [
    {
     "data": {
      "text/plain": [
       "array([2.79685075, 4.67608801, 8.5968692 , 5.17511106, 3.53274338,\n",
       "       9.77822283, 7.0745695 , 3.73509452, 1.36447902, 1.66257296,\n",
       "       6.74892903, 1.74110313, 5.64377059, 1.23786474, 7.10541588,\n",
       "       0.57146236, 3.01962105, 0.31372692, 8.09086305, 5.33554742,\n",
       "       1.58352555, 1.49222621, 1.28388953, 5.46735566, 7.30972806,\n",
       "       2.5911214 , 2.1091373 , 9.90767771, 4.70189222, 9.8395836 ,\n",
       "       3.89118233, 5.94024904, 5.47624072, 2.93273147, 2.02522196,\n",
       "       7.1559087 , 1.39196251, 9.40696752, 4.40841356, 4.40933471,\n",
       "       7.72269085, 4.76264924, 3.19313757, 6.98945631, 9.18880478,\n",
       "       3.90150609, 8.66401264, 2.60224985, 7.39848093, 2.24569168,\n",
       "       2.32484044, 2.03800708, 4.80456235, 5.64718968, 2.22605071,\n",
       "       2.14788675, 4.56939088, 8.83700384, 3.28683316, 7.01279537,\n",
       "       4.71379547, 6.14795171, 2.35388751, 7.24442037, 2.51716397,\n",
       "       6.70534173, 7.73927537, 5.8753676 , 7.9846457 , 5.81193461,\n",
       "       4.17043922, 6.13176962, 8.87819388, 7.7229952 , 9.65632814,\n",
       "       6.18675844, 8.63799906, 5.87109826, 8.03143837, 3.81445778,\n",
       "       2.73574359, 2.36824592, 6.2324992 , 5.53111803, 9.49487731,\n",
       "       1.0245614 , 1.88096604, 8.20590423, 2.15442283, 9.92762381,\n",
       "       4.29858605, 5.36053343, 0.86139105, 7.4393088 , 9.60361356,\n",
       "       2.32971354, 1.20112663, 5.90492449, 2.82165878, 8.57769444])"
      ]
     },
     "execution_count": 40,
     "metadata": {},
     "output_type": "execute_result"
    }
   ],
   "source": [
    "arr = np.random.uniform(0, 10, 100)\n",
    "arr"
   ]
  },
  {
   "cell_type": "code",
   "execution_count": 41,
   "id": "ca32ec2f",
   "metadata": {},
   "outputs": [
    {
     "data": {
      "text/plain": [
       "array([False,  True, False,  True, False, False, False, False, False,\n",
       "       False, False, False, False, False, False, False, False, False,\n",
       "       False,  True, False, False, False,  True, False, False, False,\n",
       "       False,  True, False, False, False,  True, False, False, False,\n",
       "       False, False, False, False, False,  True, False, False, False,\n",
       "       False, False, False, False, False, False, False,  True, False,\n",
       "       False, False,  True, False, False, False,  True, False, False,\n",
       "       False, False, False, False, False, False, False, False, False,\n",
       "       False, False, False, False, False, False, False, False, False,\n",
       "       False, False, False, False, False, False, False, False, False,\n",
       "       False,  True, False, False, False, False, False, False, False,\n",
       "       False])"
      ]
     },
     "execution_count": 41,
     "metadata": {},
     "output_type": "execute_result"
    }
   ],
   "source": [
    "mask = np.abs(arr - 5.0) < 0.5\n",
    "mask"
   ]
  },
  {
   "cell_type": "code",
   "execution_count": 42,
   "id": "ca9bd20c",
   "metadata": {},
   "outputs": [
    {
     "data": {
      "text/plain": [
       "(array([ 1,  3, 19, 23, 28, 32, 41, 52, 56, 60, 91]),)"
      ]
     },
     "execution_count": 42,
     "metadata": {},
     "output_type": "execute_result"
    }
   ],
   "source": [
    "np.where(mask)  # return indices satisfying the mask condition"
   ]
  }
 ],
 "metadata": {
  "kernelspec": {
   "display_name": "mlvirt",
   "language": "python",
   "name": "mlvirt"
  },
  "language_info": {
   "codemirror_mode": {
    "name": "ipython",
    "version": 3
   },
   "file_extension": ".py",
   "mimetype": "text/x-python",
   "name": "python",
   "nbconvert_exporter": "python",
   "pygments_lexer": "ipython3",
   "version": "3.12.4"
  }
 },
 "nbformat": 4,
 "nbformat_minor": 5
}
