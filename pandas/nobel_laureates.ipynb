{
 "cells": [
  {
   "cell_type": "code",
   "execution_count": 1,
   "id": "b8c18d84",
   "metadata": {},
   "outputs": [],
   "source": [
    "import pandas as pd\n",
    "import numpy as np\n",
    "import matplotlib.pyplot as plt"
   ]
  },
  {
   "cell_type": "markdown",
   "id": "9957730c",
   "metadata": {},
   "source": [
    "### 1. Load the dataset from the JSON file"
   ]
  },
  {
   "cell_type": "code",
   "execution_count": 2,
   "id": "944da06c",
   "metadata": {},
   "outputs": [],
   "source": [
    "data_path = \"data/nobel_laureates.json\"\n",
    "df = pd.read_json(data_path)"
   ]
  },
  {
   "cell_type": "markdown",
   "id": "28353f12",
   "metadata": {},
   "source": [
    "### 2. Explore the data and check what the axes are, get the shape of the DataFrame, use .info() to check for the data types and whether there are any missing values"
   ]
  },
  {
   "cell_type": "code",
   "execution_count": 10,
   "id": "fb26b591",
   "metadata": {},
   "outputs": [
    {
     "name": "stdout",
     "output_type": "stream",
     "text": [
      "cols:  1052 rows:  12\n"
     ]
    }
   ],
   "source": [
    "print(\"cols: \", df.shape[0], \"rows: \", df.shape[1])"
   ]
  },
  {
   "cell_type": "code",
   "execution_count": 3,
   "id": "bfcd1f33",
   "metadata": {},
   "outputs": [
    {
     "data": {
      "text/html": [
       "<div>\n",
       "<style scoped>\n",
       "    .dataframe tbody tr th:only-of-type {\n",
       "        vertical-align: middle;\n",
       "    }\n",
       "\n",
       "    .dataframe tbody tr th {\n",
       "        vertical-align: top;\n",
       "    }\n",
       "\n",
       "    .dataframe thead th {\n",
       "        text-align: right;\n",
       "    }\n",
       "</style>\n",
       "<table border=\"1\" class=\"dataframe\">\n",
       "  <thead>\n",
       "    <tr style=\"text-align: right;\">\n",
       "      <th></th>\n",
       "      <th>born_in</th>\n",
       "      <th>category</th>\n",
       "      <th>country</th>\n",
       "      <th>date_of_birth</th>\n",
       "      <th>date_of_death</th>\n",
       "      <th>gender</th>\n",
       "      <th>link</th>\n",
       "      <th>name</th>\n",
       "      <th>place_of_birth</th>\n",
       "      <th>place_of_death</th>\n",
       "      <th>text</th>\n",
       "      <th>year</th>\n",
       "    </tr>\n",
       "  </thead>\n",
       "  <tbody>\n",
       "    <tr>\n",
       "      <th>0</th>\n",
       "      <td></td>\n",
       "      <td>Physiology or Medicine</td>\n",
       "      <td>Argentina</td>\n",
       "      <td>8 October 1927</td>\n",
       "      <td>24 March 2002</td>\n",
       "      <td>male</td>\n",
       "      <td>http://en.wikipedia.org/wiki/C%C3%A9sar_Milstein</td>\n",
       "      <td>César Milstein</td>\n",
       "      <td>Bahía Blanca ,  Argentina</td>\n",
       "      <td>Cambridge , England</td>\n",
       "      <td>César Milstein , Physiology or Medicine, 1984</td>\n",
       "      <td>1984</td>\n",
       "    </tr>\n",
       "    <tr>\n",
       "      <th>1</th>\n",
       "      <td>Bosnia and Herzegovina</td>\n",
       "      <td>Literature</td>\n",
       "      <td></td>\n",
       "      <td>9 October 1892</td>\n",
       "      <td>13 March 1975</td>\n",
       "      <td>male</td>\n",
       "      <td>http://en.wikipedia.org/wiki/Ivo_Andric</td>\n",
       "      <td>Ivo Andric *</td>\n",
       "      <td>Dolac (village near Travnik), Bosnia and Herze...</td>\n",
       "      <td>Belgrade, SR Serbia, SFR Yugoslavia (present-d...</td>\n",
       "      <td>Ivo Andric *,  born in then  Austria–Hungary ,...</td>\n",
       "      <td>1961</td>\n",
       "    </tr>\n",
       "    <tr>\n",
       "      <th>2</th>\n",
       "      <td>Bosnia and Herzegovina</td>\n",
       "      <td>Chemistry</td>\n",
       "      <td></td>\n",
       "      <td>July 23, 1906</td>\n",
       "      <td>1998-01-07</td>\n",
       "      <td>male</td>\n",
       "      <td>http://en.wikipedia.org/wiki/Vladimir_Prelog</td>\n",
       "      <td>Vladimir Prelog *</td>\n",
       "      <td>Sarajevo ,  Bosnia and Herzegovina</td>\n",
       "      <td>Zürich ,  Switzerland</td>\n",
       "      <td>Vladimir Prelog *,  born in then  Austria–Hung...</td>\n",
       "      <td>1975</td>\n",
       "    </tr>\n",
       "    <tr>\n",
       "      <th>3</th>\n",
       "      <td></td>\n",
       "      <td>Peace</td>\n",
       "      <td>Belgium</td>\n",
       "      <td>None</td>\n",
       "      <td>None</td>\n",
       "      <td>None</td>\n",
       "      <td>http://en.wikipedia.org/wiki/Institut_de_Droit...</td>\n",
       "      <td>Institut de Droit International</td>\n",
       "      <td>None</td>\n",
       "      <td>None</td>\n",
       "      <td>Institut de Droit International , Peace, 1904</td>\n",
       "      <td>1904</td>\n",
       "    </tr>\n",
       "    <tr>\n",
       "      <th>4</th>\n",
       "      <td></td>\n",
       "      <td>Peace</td>\n",
       "      <td>Belgium</td>\n",
       "      <td>26 July 1829</td>\n",
       "      <td>6 October 1912</td>\n",
       "      <td>male</td>\n",
       "      <td>http://en.wikipedia.org/wiki/Auguste_Marie_Fra...</td>\n",
       "      <td>Auguste Beernaert</td>\n",
       "      <td>Ostend ,  Belgium</td>\n",
       "      <td>Lucerne ,  Switzerland</td>\n",
       "      <td>Auguste Beernaert , Peace, 1909</td>\n",
       "      <td>1909</td>\n",
       "    </tr>\n",
       "  </tbody>\n",
       "</table>\n",
       "</div>"
      ],
      "text/plain": [
       "                  born_in                category    country   date_of_birth  \\\n",
       "0                          Physiology or Medicine  Argentina  8 October 1927   \n",
       "1  Bosnia and Herzegovina              Literature             9 October 1892   \n",
       "2  Bosnia and Herzegovina               Chemistry              July 23, 1906   \n",
       "3                                           Peace    Belgium            None   \n",
       "4                                           Peace    Belgium    26 July 1829   \n",
       "\n",
       "    date_of_death gender                                               link  \\\n",
       "0   24 March 2002   male   http://en.wikipedia.org/wiki/C%C3%A9sar_Milstein   \n",
       "1   13 March 1975   male            http://en.wikipedia.org/wiki/Ivo_Andric   \n",
       "2      1998-01-07   male       http://en.wikipedia.org/wiki/Vladimir_Prelog   \n",
       "3            None   None  http://en.wikipedia.org/wiki/Institut_de_Droit...   \n",
       "4  6 October 1912   male  http://en.wikipedia.org/wiki/Auguste_Marie_Fra...   \n",
       "\n",
       "                              name  \\\n",
       "0                   César Milstein   \n",
       "1                     Ivo Andric *   \n",
       "2                Vladimir Prelog *   \n",
       "3  Institut de Droit International   \n",
       "4                Auguste Beernaert   \n",
       "\n",
       "                                      place_of_birth  \\\n",
       "0                          Bahía Blanca ,  Argentina   \n",
       "1  Dolac (village near Travnik), Bosnia and Herze...   \n",
       "2                 Sarajevo ,  Bosnia and Herzegovina   \n",
       "3                                               None   \n",
       "4                                  Ostend ,  Belgium   \n",
       "\n",
       "                                      place_of_death  \\\n",
       "0                                Cambridge , England   \n",
       "1  Belgrade, SR Serbia, SFR Yugoslavia (present-d...   \n",
       "2                              Zürich ,  Switzerland   \n",
       "3                                               None   \n",
       "4                             Lucerne ,  Switzerland   \n",
       "\n",
       "                                                text  year  \n",
       "0      César Milstein , Physiology or Medicine, 1984  1984  \n",
       "1  Ivo Andric *,  born in then  Austria–Hungary ,...  1961  \n",
       "2  Vladimir Prelog *,  born in then  Austria–Hung...  1975  \n",
       "3      Institut de Droit International , Peace, 1904  1904  \n",
       "4                    Auguste Beernaert , Peace, 1909  1909  "
      ]
     },
     "execution_count": 3,
     "metadata": {},
     "output_type": "execute_result"
    }
   ],
   "source": [
    "df.head()"
   ]
  },
  {
   "cell_type": "code",
   "execution_count": 4,
   "id": "3ebeb63e",
   "metadata": {},
   "outputs": [
    {
     "name": "stdout",
     "output_type": "stream",
     "text": [
      "<class 'pandas.core.frame.DataFrame'>\n",
      "Index: 1052 entries, 0 to 1051\n",
      "Data columns (total 12 columns):\n",
      " #   Column          Non-Null Count  Dtype \n",
      "---  ------          --------------  ----- \n",
      " 0   born_in         1052 non-null   object\n",
      " 1   category        1052 non-null   object\n",
      " 2   country         1052 non-null   object\n",
      " 3   date_of_birth   1044 non-null   object\n",
      " 4   date_of_death   1044 non-null   object\n",
      " 5   gender          1040 non-null   object\n",
      " 6   link            1052 non-null   object\n",
      " 7   name            1052 non-null   object\n",
      " 8   place_of_birth  1011 non-null   object\n",
      " 9   place_of_death  1044 non-null   object\n",
      " 10  text            1052 non-null   object\n",
      " 11  year            1052 non-null   int64 \n",
      "dtypes: int64(1), object(11)\n",
      "memory usage: 106.8+ KB\n"
     ]
    }
   ],
   "source": [
    "\n",
    "df.info()"
   ]
  },
  {
   "cell_type": "code",
   "execution_count": 7,
   "id": "dbb04375",
   "metadata": {},
   "outputs": [
    {
     "name": "stdout",
     "output_type": "stream",
     "text": [
      "Row index:\n",
      " Index([   0,    1,    2,    3,    4,    5,    6,    7,    8,    9,\n",
      "       ...\n",
      "       1042, 1043, 1044, 1045, 1046, 1047, 1048, 1049, 1050, 1051],\n",
      "      dtype='int64', length=1052)\n"
     ]
    }
   ],
   "source": [
    "print(\"Row index:\\n\", df.axes[0])"
   ]
  },
  {
   "cell_type": "code",
   "execution_count": 8,
   "id": "4cfb4042",
   "metadata": {},
   "outputs": [
    {
     "name": "stdout",
     "output_type": "stream",
     "text": [
      "Cols index:\n",
      " Index(['born_in', 'category', 'country', 'date_of_birth', 'date_of_death',\n",
      "       'gender', 'link', 'name', 'place_of_birth', 'place_of_death', 'text',\n",
      "       'year'],\n",
      "      dtype='object')\n"
     ]
    }
   ],
   "source": [
    "print(\"Cols index:\\n\", df.axes[1])"
   ]
  },
  {
   "cell_type": "markdown",
   "id": "de7d21a1",
   "metadata": {},
   "source": [
    "### 3. Use the .duplicated() method to check whether there are any duplicate rows. Print False if there are no duplicate rows, otherwise print True.\n"
   ]
  },
  {
   "cell_type": "code",
   "execution_count": 19,
   "id": "d21592b4",
   "metadata": {},
   "outputs": [
    {
     "name": "stdout",
     "output_type": "stream",
     "text": [
      "Duplicated data:  False\n"
     ]
    }
   ],
   "source": [
    "print(\"Duplicated data: \", bool(df.duplicated().any()))"
   ]
  },
  {
   "cell_type": "code",
   "execution_count": 20,
   "id": "fd4f4346",
   "metadata": {},
   "outputs": [
    {
     "name": "stdout",
     "output_type": "stream",
     "text": [
      "Total of duplicated data:  0\n"
     ]
    }
   ],
   "source": [
    "print(\"Total of duplicated data: \", df.duplicated().sum())"
   ]
  },
  {
   "cell_type": "markdown",
   "id": "1153e35f",
   "metadata": {},
   "source": [
    "### 4. Drop all the rows where the gender column does not contain any values. Hint: use the subset parameter of the .dropna() method in pandas.\n"
   ]
  },
  {
   "cell_type": "code",
   "execution_count": 22,
   "id": "4aa97e20",
   "metadata": {},
   "outputs": [
    {
     "name": "stdout",
     "output_type": "stream",
     "text": [
      "0       male\n",
      "1       male\n",
      "2       male\n",
      "3       None\n",
      "4       male\n",
      "        ... \n",
      "1047    male\n",
      "1048    male\n",
      "1049    male\n",
      "1050    male\n",
      "1051    male\n",
      "Name: gender, Length: 1052, dtype: object\n"
     ]
    }
   ],
   "source": [
    "gender = df['gender']\n",
    "print(gender)"
   ]
  },
  {
   "cell_type": "code",
   "execution_count": 30,
   "id": "71faf3f5",
   "metadata": {},
   "outputs": [
    {
     "name": "stdout",
     "output_type": "stream",
     "text": [
      "None values:  True\n",
      "Total of none values:  12\n",
      "% Null values: 1.141 %\n"
     ]
    }
   ],
   "source": [
    "print(\"None values: \", gender.isnull().any())\n",
    "print(\"Total of none values: \", gender.isnull().sum())\n",
    "percent = 100 * gender.isnull().sum() / gender.shape[0]\n",
    "print(f\"% Null values: {percent:.3f} %\")"
   ]
  },
  {
   "cell_type": "code",
   "execution_count": 31,
   "id": "3a3e4f30",
   "metadata": {},
   "outputs": [],
   "source": [
    "gender.dropna(inplace=True)"
   ]
  },
  {
   "cell_type": "code",
   "execution_count": 32,
   "id": "d4366d04",
   "metadata": {},
   "outputs": [
    {
     "data": {
      "text/plain": [
       "np.False_"
      ]
     },
     "execution_count": 32,
     "metadata": {},
     "output_type": "execute_result"
    }
   ],
   "source": [
    "gender.isnull().any()"
   ]
  },
  {
   "cell_type": "code",
   "execution_count": 47,
   "id": "1133df50",
   "metadata": {},
   "outputs": [
    {
     "data": {
      "text/plain": [
       "0       False\n",
       "1       False\n",
       "2       False\n",
       "3        True\n",
       "4       False\n",
       "        ...  \n",
       "1047    False\n",
       "1048    False\n",
       "1049    False\n",
       "1050    False\n",
       "1051    False\n",
       "Name: gender, Length: 1052, dtype: bool"
      ]
     },
     "execution_count": 47,
     "metadata": {},
     "output_type": "execute_result"
    }
   ],
   "source": [
    "df.gender.isnull()"
   ]
  },
  {
   "cell_type": "code",
   "execution_count": 48,
   "id": "c969c38e",
   "metadata": {},
   "outputs": [
    {
     "data": {
      "text/plain": [
       "0        True\n",
       "1        True\n",
       "2        True\n",
       "3       False\n",
       "4        True\n",
       "        ...  \n",
       "1047     True\n",
       "1048     True\n",
       "1049     True\n",
       "1050     True\n",
       "1051     True\n",
       "Name: gender, Length: 1052, dtype: bool"
      ]
     },
     "execution_count": 48,
     "metadata": {},
     "output_type": "execute_result"
    }
   ],
   "source": [
    "df.gender.notnull()"
   ]
  },
  {
   "cell_type": "code",
   "execution_count": null,
   "id": "ff6f1f1f",
   "metadata": {},
   "outputs": [],
   "source": [
    "# On the original dataset\n",
    "# df_drop = df[df.gender.notnull()]  # Using a mask\n",
    "df_drop = df.dropna(subset='gender')  # Using dropna "
   ]
  },
  {
   "cell_type": "code",
   "execution_count": 52,
   "id": "fac80217",
   "metadata": {},
   "outputs": [],
   "source": [
    "# Drop the nan rows using the gender column\n",
    "# from the original df\n",
    "df.dropna(subset='gender', inplace=True)"
   ]
  },
  {
   "cell_type": "code",
   "execution_count": 53,
   "id": "68e33948",
   "metadata": {},
   "outputs": [
    {
     "data": {
      "text/html": [
       "<div>\n",
       "<style scoped>\n",
       "    .dataframe tbody tr th:only-of-type {\n",
       "        vertical-align: middle;\n",
       "    }\n",
       "\n",
       "    .dataframe tbody tr th {\n",
       "        vertical-align: top;\n",
       "    }\n",
       "\n",
       "    .dataframe thead th {\n",
       "        text-align: right;\n",
       "    }\n",
       "</style>\n",
       "<table border=\"1\" class=\"dataframe\">\n",
       "  <thead>\n",
       "    <tr style=\"text-align: right;\">\n",
       "      <th></th>\n",
       "      <th>born_in</th>\n",
       "      <th>category</th>\n",
       "      <th>country</th>\n",
       "      <th>date_of_birth</th>\n",
       "      <th>date_of_death</th>\n",
       "      <th>gender</th>\n",
       "      <th>link</th>\n",
       "      <th>name</th>\n",
       "      <th>place_of_birth</th>\n",
       "      <th>place_of_death</th>\n",
       "      <th>text</th>\n",
       "      <th>year</th>\n",
       "    </tr>\n",
       "  </thead>\n",
       "  <tbody>\n",
       "    <tr>\n",
       "      <th>0</th>\n",
       "      <td></td>\n",
       "      <td>Physiology or Medicine</td>\n",
       "      <td>Argentina</td>\n",
       "      <td>8 October 1927</td>\n",
       "      <td>24 March 2002</td>\n",
       "      <td>male</td>\n",
       "      <td>http://en.wikipedia.org/wiki/C%C3%A9sar_Milstein</td>\n",
       "      <td>César Milstein</td>\n",
       "      <td>Bahía Blanca ,  Argentina</td>\n",
       "      <td>Cambridge , England</td>\n",
       "      <td>César Milstein , Physiology or Medicine, 1984</td>\n",
       "      <td>1984</td>\n",
       "    </tr>\n",
       "    <tr>\n",
       "      <th>1</th>\n",
       "      <td>Bosnia and Herzegovina</td>\n",
       "      <td>Literature</td>\n",
       "      <td></td>\n",
       "      <td>9 October 1892</td>\n",
       "      <td>13 March 1975</td>\n",
       "      <td>male</td>\n",
       "      <td>http://en.wikipedia.org/wiki/Ivo_Andric</td>\n",
       "      <td>Ivo Andric *</td>\n",
       "      <td>Dolac (village near Travnik), Bosnia and Herze...</td>\n",
       "      <td>Belgrade, SR Serbia, SFR Yugoslavia (present-d...</td>\n",
       "      <td>Ivo Andric *,  born in then  Austria–Hungary ,...</td>\n",
       "      <td>1961</td>\n",
       "    </tr>\n",
       "    <tr>\n",
       "      <th>2</th>\n",
       "      <td>Bosnia and Herzegovina</td>\n",
       "      <td>Chemistry</td>\n",
       "      <td></td>\n",
       "      <td>July 23, 1906</td>\n",
       "      <td>1998-01-07</td>\n",
       "      <td>male</td>\n",
       "      <td>http://en.wikipedia.org/wiki/Vladimir_Prelog</td>\n",
       "      <td>Vladimir Prelog *</td>\n",
       "      <td>Sarajevo ,  Bosnia and Herzegovina</td>\n",
       "      <td>Zürich ,  Switzerland</td>\n",
       "      <td>Vladimir Prelog *,  born in then  Austria–Hung...</td>\n",
       "      <td>1975</td>\n",
       "    </tr>\n",
       "    <tr>\n",
       "      <th>4</th>\n",
       "      <td></td>\n",
       "      <td>Peace</td>\n",
       "      <td>Belgium</td>\n",
       "      <td>26 July 1829</td>\n",
       "      <td>6 October 1912</td>\n",
       "      <td>male</td>\n",
       "      <td>http://en.wikipedia.org/wiki/Auguste_Marie_Fra...</td>\n",
       "      <td>Auguste Beernaert</td>\n",
       "      <td>Ostend ,  Belgium</td>\n",
       "      <td>Lucerne ,  Switzerland</td>\n",
       "      <td>Auguste Beernaert , Peace, 1909</td>\n",
       "      <td>1909</td>\n",
       "    </tr>\n",
       "    <tr>\n",
       "      <th>5</th>\n",
       "      <td></td>\n",
       "      <td>Literature</td>\n",
       "      <td>Belgium</td>\n",
       "      <td>29 August 1862</td>\n",
       "      <td>6 May 1949</td>\n",
       "      <td>male</td>\n",
       "      <td>http://en.wikipedia.org/wiki/Maurice_Maeterlinck</td>\n",
       "      <td>Maurice Maeterlinck</td>\n",
       "      <td>Ghent ,  Belgium</td>\n",
       "      <td>Nice ,  France</td>\n",
       "      <td>Maurice Maeterlinck , Literature, 1911</td>\n",
       "      <td>1911</td>\n",
       "    </tr>\n",
       "  </tbody>\n",
       "</table>\n",
       "</div>"
      ],
      "text/plain": [
       "                  born_in                category    country   date_of_birth  \\\n",
       "0                          Physiology or Medicine  Argentina  8 October 1927   \n",
       "1  Bosnia and Herzegovina              Literature             9 October 1892   \n",
       "2  Bosnia and Herzegovina               Chemistry              July 23, 1906   \n",
       "4                                           Peace    Belgium    26 July 1829   \n",
       "5                                      Literature    Belgium  29 August 1862   \n",
       "\n",
       "    date_of_death gender                                               link  \\\n",
       "0   24 March 2002   male   http://en.wikipedia.org/wiki/C%C3%A9sar_Milstein   \n",
       "1   13 March 1975   male            http://en.wikipedia.org/wiki/Ivo_Andric   \n",
       "2      1998-01-07   male       http://en.wikipedia.org/wiki/Vladimir_Prelog   \n",
       "4  6 October 1912   male  http://en.wikipedia.org/wiki/Auguste_Marie_Fra...   \n",
       "5      6 May 1949   male   http://en.wikipedia.org/wiki/Maurice_Maeterlinck   \n",
       "\n",
       "                  name                                     place_of_birth  \\\n",
       "0       César Milstein                          Bahía Blanca ,  Argentina   \n",
       "1         Ivo Andric *  Dolac (village near Travnik), Bosnia and Herze...   \n",
       "2    Vladimir Prelog *                 Sarajevo ,  Bosnia and Herzegovina   \n",
       "4    Auguste Beernaert                                  Ostend ,  Belgium   \n",
       "5  Maurice Maeterlinck                                   Ghent ,  Belgium   \n",
       "\n",
       "                                      place_of_death  \\\n",
       "0                                Cambridge , England   \n",
       "1  Belgrade, SR Serbia, SFR Yugoslavia (present-d...   \n",
       "2                              Zürich ,  Switzerland   \n",
       "4                             Lucerne ,  Switzerland   \n",
       "5                                     Nice ,  France   \n",
       "\n",
       "                                                text  year  \n",
       "0      César Milstein , Physiology or Medicine, 1984  1984  \n",
       "1  Ivo Andric *,  born in then  Austria–Hungary ,...  1961  \n",
       "2  Vladimir Prelog *,  born in then  Austria–Hung...  1975  \n",
       "4                    Auguste Beernaert , Peace, 1909  1909  \n",
       "5             Maurice Maeterlinck , Literature, 1911  1911  "
      ]
     },
     "execution_count": 53,
     "metadata": {},
     "output_type": "execute_result"
    }
   ],
   "source": [
    "df.head()"
   ]
  },
  {
   "cell_type": "markdown",
   "id": "50eab2d6",
   "metadata": {},
   "source": [
    "### 5. Re-index the DataFrame so that the index contains consecutive numbers. Do not forget to remove the old index column."
   ]
  },
  {
   "cell_type": "code",
   "execution_count": 55,
   "id": "1fb48c15",
   "metadata": {},
   "outputs": [
    {
     "data": {
      "text/html": [
       "<div>\n",
       "<style scoped>\n",
       "    .dataframe tbody tr th:only-of-type {\n",
       "        vertical-align: middle;\n",
       "    }\n",
       "\n",
       "    .dataframe tbody tr th {\n",
       "        vertical-align: top;\n",
       "    }\n",
       "\n",
       "    .dataframe thead th {\n",
       "        text-align: right;\n",
       "    }\n",
       "</style>\n",
       "<table border=\"1\" class=\"dataframe\">\n",
       "  <thead>\n",
       "    <tr style=\"text-align: right;\">\n",
       "      <th></th>\n",
       "      <th>born_in</th>\n",
       "      <th>category</th>\n",
       "      <th>country</th>\n",
       "      <th>date_of_birth</th>\n",
       "      <th>date_of_death</th>\n",
       "      <th>gender</th>\n",
       "      <th>link</th>\n",
       "      <th>name</th>\n",
       "      <th>place_of_birth</th>\n",
       "      <th>place_of_death</th>\n",
       "      <th>text</th>\n",
       "      <th>year</th>\n",
       "    </tr>\n",
       "  </thead>\n",
       "  <tbody>\n",
       "    <tr>\n",
       "      <th>0</th>\n",
       "      <td></td>\n",
       "      <td>Physiology or Medicine</td>\n",
       "      <td>Argentina</td>\n",
       "      <td>8 October 1927</td>\n",
       "      <td>24 March 2002</td>\n",
       "      <td>male</td>\n",
       "      <td>http://en.wikipedia.org/wiki/C%C3%A9sar_Milstein</td>\n",
       "      <td>César Milstein</td>\n",
       "      <td>Bahía Blanca ,  Argentina</td>\n",
       "      <td>Cambridge , England</td>\n",
       "      <td>César Milstein , Physiology or Medicine, 1984</td>\n",
       "      <td>1984</td>\n",
       "    </tr>\n",
       "    <tr>\n",
       "      <th>1</th>\n",
       "      <td>Bosnia and Herzegovina</td>\n",
       "      <td>Literature</td>\n",
       "      <td></td>\n",
       "      <td>9 October 1892</td>\n",
       "      <td>13 March 1975</td>\n",
       "      <td>male</td>\n",
       "      <td>http://en.wikipedia.org/wiki/Ivo_Andric</td>\n",
       "      <td>Ivo Andric *</td>\n",
       "      <td>Dolac (village near Travnik), Bosnia and Herze...</td>\n",
       "      <td>Belgrade, SR Serbia, SFR Yugoslavia (present-d...</td>\n",
       "      <td>Ivo Andric *,  born in then  Austria–Hungary ,...</td>\n",
       "      <td>1961</td>\n",
       "    </tr>\n",
       "    <tr>\n",
       "      <th>2</th>\n",
       "      <td>Bosnia and Herzegovina</td>\n",
       "      <td>Chemistry</td>\n",
       "      <td></td>\n",
       "      <td>July 23, 1906</td>\n",
       "      <td>1998-01-07</td>\n",
       "      <td>male</td>\n",
       "      <td>http://en.wikipedia.org/wiki/Vladimir_Prelog</td>\n",
       "      <td>Vladimir Prelog *</td>\n",
       "      <td>Sarajevo ,  Bosnia and Herzegovina</td>\n",
       "      <td>Zürich ,  Switzerland</td>\n",
       "      <td>Vladimir Prelog *,  born in then  Austria–Hung...</td>\n",
       "      <td>1975</td>\n",
       "    </tr>\n",
       "    <tr>\n",
       "      <th>3</th>\n",
       "      <td></td>\n",
       "      <td>Peace</td>\n",
       "      <td>Belgium</td>\n",
       "      <td>26 July 1829</td>\n",
       "      <td>6 October 1912</td>\n",
       "      <td>male</td>\n",
       "      <td>http://en.wikipedia.org/wiki/Auguste_Marie_Fra...</td>\n",
       "      <td>Auguste Beernaert</td>\n",
       "      <td>Ostend ,  Belgium</td>\n",
       "      <td>Lucerne ,  Switzerland</td>\n",
       "      <td>Auguste Beernaert , Peace, 1909</td>\n",
       "      <td>1909</td>\n",
       "    </tr>\n",
       "    <tr>\n",
       "      <th>4</th>\n",
       "      <td></td>\n",
       "      <td>Literature</td>\n",
       "      <td>Belgium</td>\n",
       "      <td>29 August 1862</td>\n",
       "      <td>6 May 1949</td>\n",
       "      <td>male</td>\n",
       "      <td>http://en.wikipedia.org/wiki/Maurice_Maeterlinck</td>\n",
       "      <td>Maurice Maeterlinck</td>\n",
       "      <td>Ghent ,  Belgium</td>\n",
       "      <td>Nice ,  France</td>\n",
       "      <td>Maurice Maeterlinck , Literature, 1911</td>\n",
       "      <td>1911</td>\n",
       "    </tr>\n",
       "  </tbody>\n",
       "</table>\n",
       "</div>"
      ],
      "text/plain": [
       "                  born_in                category    country   date_of_birth  \\\n",
       "0                          Physiology or Medicine  Argentina  8 October 1927   \n",
       "1  Bosnia and Herzegovina              Literature             9 October 1892   \n",
       "2  Bosnia and Herzegovina               Chemistry              July 23, 1906   \n",
       "3                                           Peace    Belgium    26 July 1829   \n",
       "4                                      Literature    Belgium  29 August 1862   \n",
       "\n",
       "    date_of_death gender                                               link  \\\n",
       "0   24 March 2002   male   http://en.wikipedia.org/wiki/C%C3%A9sar_Milstein   \n",
       "1   13 March 1975   male            http://en.wikipedia.org/wiki/Ivo_Andric   \n",
       "2      1998-01-07   male       http://en.wikipedia.org/wiki/Vladimir_Prelog   \n",
       "3  6 October 1912   male  http://en.wikipedia.org/wiki/Auguste_Marie_Fra...   \n",
       "4      6 May 1949   male   http://en.wikipedia.org/wiki/Maurice_Maeterlinck   \n",
       "\n",
       "                  name                                     place_of_birth  \\\n",
       "0       César Milstein                          Bahía Blanca ,  Argentina   \n",
       "1         Ivo Andric *  Dolac (village near Travnik), Bosnia and Herze...   \n",
       "2    Vladimir Prelog *                 Sarajevo ,  Bosnia and Herzegovina   \n",
       "3    Auguste Beernaert                                  Ostend ,  Belgium   \n",
       "4  Maurice Maeterlinck                                   Ghent ,  Belgium   \n",
       "\n",
       "                                      place_of_death  \\\n",
       "0                                Cambridge , England   \n",
       "1  Belgrade, SR Serbia, SFR Yugoslavia (present-d...   \n",
       "2                              Zürich ,  Switzerland   \n",
       "3                             Lucerne ,  Switzerland   \n",
       "4                                     Nice ,  France   \n",
       "\n",
       "                                                text  year  \n",
       "0      César Milstein , Physiology or Medicine, 1984  1984  \n",
       "1  Ivo Andric *,  born in then  Austria–Hungary ,...  1961  \n",
       "2  Vladimir Prelog *,  born in then  Austria–Hung...  1975  \n",
       "3                    Auguste Beernaert , Peace, 1909  1909  \n",
       "4             Maurice Maeterlinck , Literature, 1911  1911  "
      ]
     },
     "execution_count": 55,
     "metadata": {},
     "output_type": "execute_result"
    }
   ],
   "source": [
    "df_drop.reset_index(drop=True, inplace=True)\n",
    "df_drop.head()"
   ]
  },
  {
   "cell_type": "code",
   "execution_count": 57,
   "id": "ae0d5051",
   "metadata": {},
   "outputs": [],
   "source": [
    "df.reset_index(drop=True, inplace=True)"
   ]
  },
  {
   "cell_type": "markdown",
   "id": "0b4c1f9f",
   "metadata": {},
   "source": [
    "### 6. Output the results: Print a dictionary containing the first 20 rows of the DataFrame with the DataFrame method .to_dict() for the country and name columns."
   ]
  },
  {
   "cell_type": "code",
   "execution_count": null,
   "id": "f3d7b03a",
   "metadata": {},
   "outputs": [],
   "source": [
    "df_dict = df['country', '']"
   ]
  }
 ],
 "metadata": {
  "kernelspec": {
   "display_name": "mlvirt",
   "language": "python",
   "name": "mlvirt"
  },
  "language_info": {
   "codemirror_mode": {
    "name": "ipython",
    "version": 3
   },
   "file_extension": ".py",
   "mimetype": "text/x-python",
   "name": "python",
   "nbconvert_exporter": "python",
   "pygments_lexer": "ipython3",
   "version": "3.12.4"
  }
 },
 "nbformat": 4,
 "nbformat_minor": 5
}
